{
 "cells": [
  {
   "cell_type": "code",
   "execution_count": 1,
   "metadata": {},
   "outputs": [],
   "source": [
    "import tensorflow as tf\n",
    "from tensorflow import keras\n",
    "from tensorflow.keras import layers"
   ]
  },
  {
   "cell_type": "code",
   "execution_count": 2,
   "metadata": {},
   "outputs": [],
   "source": [
    "data = keras.datasets.imdb"
   ]
  },
  {
   "cell_type": "code",
   "execution_count": 3,
   "metadata": {},
   "outputs": [],
   "source": [
    "# (x_train, y_train), (x_test, y_test) = data.load_data()\n",
    "(x_train, y_train), (x_test, y_test) = data.load_data(num_words=10000)"
   ]
  },
  {
   "cell_type": "code",
   "execution_count": 4,
   "metadata": {},
   "outputs": [
    {
     "data": {
      "text/plain": [
       "(25000,)"
      ]
     },
     "execution_count": 4,
     "metadata": {},
     "output_type": "execute_result"
    }
   ],
   "source": [
    "x_train.shape"
   ]
  },
  {
   "cell_type": "code",
   "execution_count": 5,
   "metadata": {},
   "outputs": [],
   "source": [
    "# pad the sentences so that the lengths are the same\n",
    "x_train = keras.preprocessing.sequence.pad_sequences(x_train, 300)\n",
    "x_test = keras.preprocessing.sequence.pad_sequences(x_test, 300)"
   ]
  },
  {
   "cell_type": "code",
   "execution_count": 6,
   "metadata": {},
   "outputs": [
    {
     "data": {
      "text/plain": [
       "(25000, 300)"
      ]
     },
     "execution_count": 6,
     "metadata": {},
     "output_type": "execute_result"
    }
   ],
   "source": [
    "x_train.shape"
   ]
  },
  {
   "cell_type": "code",
   "execution_count": 7,
   "metadata": {},
   "outputs": [],
   "source": [
    "model = keras.Sequential()\n",
    "# after embedding, the shape of x_train will become (25000, 300, 50), before is (25000, 300)\n",
    "# which means each of the 300 words become a 50 dim vector\n",
    "model.add(layers.Embedding(10000, 50, input_length=300))\n",
    "# since fully connected layers cannot handle 3-dim data, need to flatten\n",
    "# after Flatten, it becomes (25000, 300*50)\n",
    "# better use: \n",
    "# model.add(layers.GlobalAveragePooling1D())\n",
    "model.add(layers.Flatten())\n",
    "model.add(layers.Dense(128, activation='relu'))\n",
    "# model.add(layers.Dropout(0.5))\n",
    "model.add(layers.Dense(1, activation='sigmoid'))"
   ]
  },
  {
   "cell_type": "code",
   "execution_count": 8,
   "metadata": {},
   "outputs": [
    {
     "name": "stdout",
     "output_type": "stream",
     "text": [
      "Model: \"sequential\"\n",
      "_________________________________________________________________\n",
      "Layer (type)                 Output Shape              Param #   \n",
      "=================================================================\n",
      "embedding (Embedding)        (None, 300, 50)           500000    \n",
      "_________________________________________________________________\n",
      "flatten (Flatten)            (None, 15000)             0         \n",
      "_________________________________________________________________\n",
      "dense (Dense)                (None, 128)               1920128   \n",
      "_________________________________________________________________\n",
      "dense_1 (Dense)              (None, 1)                 129       \n",
      "=================================================================\n",
      "Total params: 2,420,257\n",
      "Trainable params: 2,420,257\n",
      "Non-trainable params: 0\n",
      "_________________________________________________________________\n"
     ]
    }
   ],
   "source": [
    "model.summary()"
   ]
  },
  {
   "cell_type": "code",
   "execution_count": 9,
   "metadata": {},
   "outputs": [],
   "source": [
    "model.compile(optimizer=tf.keras.optimizers.Adam(), loss='binary_crossentropy', metrics=['acc'])"
   ]
  },
  {
   "cell_type": "code",
   "execution_count": 10,
   "metadata": {},
   "outputs": [
    {
     "name": "stderr",
     "output_type": "stream",
     "text": [
      "WARNING: Logging before flag parsing goes to stderr.\n",
      "W0802 03:14:05.384878  2440 deprecation.py:323] From D:\\work\\Python\\Python37\\lib\\site-packages\\tensorflow\\python\\ops\\math_grad.py:1250: add_dispatch_support.<locals>.wrapper (from tensorflow.python.ops.array_ops) is deprecated and will be removed in a future version.\n",
      "Instructions for updating:\n",
      "Use tf.where in 2.0, which has the same broadcast rule as np.where\n"
     ]
    },
    {
     "name": "stdout",
     "output_type": "stream",
     "text": [
      "Train on 25000 samples, validate on 25000 samples\n",
      "Epoch 1/15\n",
      "25000/25000 [==============================] - 3s 133us/sample - loss: 0.5050 - acc: 0.7256 - val_loss: 0.3059 - val_acc: 0.8695\n",
      "Epoch 2/15\n",
      "25000/25000 [==============================] - 3s 108us/sample - loss: 0.1637 - acc: 0.9417 - val_loss: 0.3149 - val_acc: 0.8663\n",
      "Epoch 3/15\n",
      "25000/25000 [==============================] - 3s 108us/sample - loss: 0.0402 - acc: 0.9925 - val_loss: 0.3672 - val_acc: 0.8645\n",
      "Epoch 4/15\n",
      "25000/25000 [==============================] - 3s 110us/sample - loss: 0.0088 - acc: 0.9991 - val_loss: 0.3926 - val_acc: 0.8706\n",
      "Epoch 5/15\n",
      "25000/25000 [==============================] - 3s 109us/sample - loss: 0.0028 - acc: 1.0000 - val_loss: 0.4216 - val_acc: 0.8701\n",
      "Epoch 6/15\n",
      "25000/25000 [==============================] - 3s 109us/sample - loss: 0.0015 - acc: 1.0000 - val_loss: 0.4418 - val_acc: 0.8708\n",
      "Epoch 7/15\n",
      "25000/25000 [==============================] - 3s 111us/sample - loss: 9.6092e-04 - acc: 1.0000 - val_loss: 0.4591 - val_acc: 0.8709\n",
      "Epoch 8/15\n",
      "25000/25000 [==============================] - 3s 112us/sample - loss: 6.8288e-04 - acc: 1.0000 - val_loss: 0.4722 - val_acc: 0.8714\n",
      "Epoch 9/15\n",
      "25000/25000 [==============================] - 3s 111us/sample - loss: 5.0679e-04 - acc: 1.0000 - val_loss: 0.4846 - val_acc: 0.8714\n",
      "Epoch 10/15\n",
      "25000/25000 [==============================] - 3s 109us/sample - loss: 3.9517e-04 - acc: 1.0000 - val_loss: 0.4956 - val_acc: 0.8715\n",
      "Epoch 11/15\n",
      "25000/25000 [==============================] - 3s 109us/sample - loss: 3.1426e-04 - acc: 1.0000 - val_loss: 0.5056 - val_acc: 0.8718\n",
      "Epoch 12/15\n",
      "25000/25000 [==============================] - 3s 110us/sample - loss: 2.5639e-04 - acc: 1.0000 - val_loss: 0.5145 - val_acc: 0.8716\n",
      "Epoch 13/15\n",
      "25000/25000 [==============================] - 3s 109us/sample - loss: 2.1302e-04 - acc: 1.0000 - val_loss: 0.5231 - val_acc: 0.8708\n",
      "Epoch 14/15\n",
      "25000/25000 [==============================] - 3s 109us/sample - loss: 1.7944e-04 - acc: 1.0000 - val_loss: 0.5307 - val_acc: 0.8711\n",
      "Epoch 15/15\n",
      "25000/25000 [==============================] - 3s 108us/sample - loss: 1.5264e-04 - acc: 1.0000 - val_loss: 0.5377 - val_acc: 0.8714\n"
     ]
    }
   ],
   "source": [
    "history = model.fit(x_train, y_train, epochs=15, batch_size=256, validation_data=(x_test, y_test))"
   ]
  },
  {
   "cell_type": "code",
   "execution_count": 13,
   "metadata": {},
   "outputs": [],
   "source": [
    "import matplotlib.pyplot as plt\n",
    "%matplotlib inline"
   ]
  },
  {
   "cell_type": "code",
   "execution_count": 15,
   "metadata": {},
   "outputs": [
    {
     "data": {
      "text/plain": [
       "[<matplotlib.lines.Line2D at 0x1be677cf9e8>]"
      ]
     },
     "execution_count": 15,
     "metadata": {},
     "output_type": "execute_result"
    },
    {
     "data": {
      "image/png": "[encoded data removed]",
      "text/plain": [
       "<Figure size 432x288 with 1 Axes>"
      ]
     },
     "metadata": {
      "needs_background": "light"
     },
     "output_type": "display_data"
    }
   ],
   "source": [
    "plt.plot(history.epoch, history.history['loss'], 'r')\n",
    "plt.plot(history.epoch, history.history['val_loss'], 'b--')"
   ]
  },
  {
   "cell_type": "code",
   "execution_count": null,
   "metadata": {},
   "outputs": [],
   "source": []
  }
 ],
 "metadata": {
  "kernelspec": {
   "display_name": "Python 3",
   "language": "python",
   "name": "python3"
  },
  "language_info": {
   "codemirror_mode": {
    "name": "ipython",
    "version": 3
   },
   "file_extension": ".py",
   "mimetype": "text/x-python",
   "name": "python",
   "nbconvert_exporter": "python",
   "pygments_lexer": "ipython3",
   "version": "3.7.3"
  }
 },
 "nbformat": 4,
 "nbformat_minor": 2
}
