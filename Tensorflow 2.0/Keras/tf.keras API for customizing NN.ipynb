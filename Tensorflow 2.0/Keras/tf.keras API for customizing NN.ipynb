{
 "cells": [
  {
   "cell_type": "code",
   "execution_count": 1,
   "metadata": {},
   "outputs": [],
   "source": [
    "import tensorflow as tf"
   ]
  },
  {
   "cell_type": "code",
   "execution_count": 4,
   "metadata": {},
   "outputs": [],
   "source": [
    "from tensorflow import keras\n",
    "import matplotlib.pyplot as plt\n",
    "%matplotlib inline"
   ]
  },
  {
   "cell_type": "code",
   "execution_count": 5,
   "metadata": {},
   "outputs": [],
   "source": [
    "fashino_mnist = keras.datasets.fashion_mnist\n",
    "(train_img, train_label), (test_img, test_label) = fashino_mnist.load_data()"
   ]
  },
  {
   "cell_type": "code",
   "execution_count": 6,
   "metadata": {},
   "outputs": [],
   "source": [
    "train_img = train_img / 255\n",
    "test_img = test_img / 255"
   ]
  },
  {
   "cell_type": "code",
   "execution_count": 7,
   "metadata": {},
   "outputs": [],
   "source": [
    "input = keras.Input(shape=(28, 28))"
   ]
  },
  {
   "cell_type": "code",
   "execution_count": 8,
   "metadata": {},
   "outputs": [],
   "source": [
    "# call Flatten function, directly add (x) at the end\n",
    "# just see \"keras.layers.Flatten()\" as a function(maybe named \"flatten_layer\"), then call it!\n",
    "x = keras.layers.Flatten()(input)"
   ]
  },
  {
   "cell_type": "code",
   "execution_count": 9,
   "metadata": {},
   "outputs": [],
   "source": [
    "x = keras.layers.Dense(32, activation='relu')(x)"
   ]
  },
  {
   "cell_type": "code",
   "execution_count": 11,
   "metadata": {},
   "outputs": [],
   "source": [
    "x = keras.layers.Dropout(0.5)(x)"
   ]
  },
  {
   "cell_type": "code",
   "execution_count": 12,
   "metadata": {},
   "outputs": [],
   "source": [
    "x = keras.layers.Dense(64, activation='relu')(x)"
   ]
  },
  {
   "cell_type": "code",
   "execution_count": 13,
   "metadata": {},
   "outputs": [],
   "source": [
    "output = keras.layers.Dense(10, activation='softmax')(x)"
   ]
  },
  {
   "cell_type": "code",
   "execution_count": 15,
   "metadata": {},
   "outputs": [],
   "source": [
    "model = keras.Model(inputs=input, outputs=output)"
   ]
  },
  {
   "cell_type": "code",
   "execution_count": 16,
   "metadata": {},
   "outputs": [
    {
     "name": "stdout",
     "output_type": "stream",
     "text": [
      "Model: \"model\"\n",
      "_________________________________________________________________\n",
      "Layer (type)                 Output Shape              Param #   \n",
      "=================================================================\n",
      "input_1 (InputLayer)         [(None, 28, 28)]          0         \n",
      "_________________________________________________________________\n",
      "flatten (Flatten)            (None, 784)               0         \n",
      "_________________________________________________________________\n",
      "dense (Dense)                (None, 32)                25120     \n",
      "_________________________________________________________________\n",
      "dropout (Dropout)            (None, 32)                0         \n",
      "_________________________________________________________________\n",
      "dense_1 (Dense)              (None, 64)                2112      \n",
      "_________________________________________________________________\n",
      "dense_2 (Dense)              (None, 10)                650       \n",
      "=================================================================\n",
      "Total params: 27,882\n",
      "Trainable params: 27,882\n",
      "Non-trainable params: 0\n",
      "_________________________________________________________________\n"
     ]
    }
   ],
   "source": [
    "model.summary()"
   ]
  },
  {
   "cell_type": "code",
   "execution_count": 18,
   "metadata": {},
   "outputs": [],
   "source": [
    "model.compile(optimizer='adam', loss='sparse_categorical_crossentropy', metrics=['acc'])"
   ]
  },
  {
   "cell_type": "code",
   "execution_count": 19,
   "metadata": {},
   "outputs": [
    {
     "name": "stderr",
     "output_type": "stream",
     "text": [
      "WARNING: Logging before flag parsing goes to stderr.\n",
      "W0731 23:15:17.217824 16852 deprecation.py:323] From D:\\work\\Python\\Python37\\lib\\site-packages\\tensorflow\\python\\ops\\math_grad.py:1250: add_dispatch_support.<locals>.wrapper (from tensorflow.python.ops.array_ops) is deprecated and will be removed in a future version.\n",
      "Instructions for updating:\n",
      "Use tf.where in 2.0, which has the same broadcast rule as np.where\n"
     ]
    },
    {
     "name": "stdout",
     "output_type": "stream",
     "text": [
      "Train on 60000 samples, validate on 10000 samples\n",
      "Epoch 1/10\n",
      "60000/60000 [==============================] - 7s 110us/sample - loss: 0.8536 - acc: 0.6782 - val_loss: 0.5610 - val_acc: 0.8054\n",
      "Epoch 2/10\n",
      "60000/60000 [==============================] - 6s 101us/sample - loss: 0.6482 - acc: 0.7587 - val_loss: 0.5159 - val_acc: 0.8133\n",
      "Epoch 3/10\n",
      "60000/60000 [==============================] - 6s 101us/sample - loss: 0.6069 - acc: 0.7757 - val_loss: 0.5307 - val_acc: 0.7933\n",
      "Epoch 4/10\n",
      "60000/60000 [==============================] - 6s 100us/sample - loss: 0.5820 - acc: 0.7844 - val_loss: 0.5296 - val_acc: 0.8025\n",
      "Epoch 5/10\n",
      "60000/60000 [==============================] - 6s 104us/sample - loss: 0.5675 - acc: 0.7922 - val_loss: 0.6017 - val_acc: 0.7538\n",
      "Epoch 6/10\n",
      "60000/60000 [==============================] - 6s 104us/sample - loss: 0.5522 - acc: 0.7962 - val_loss: 0.5523 - val_acc: 0.7798\n",
      "Epoch 7/10\n",
      "60000/60000 [==============================] - 6s 107us/sample - loss: 0.5412 - acc: 0.7997 - val_loss: 0.5014 - val_acc: 0.8154\n",
      "Epoch 8/10\n",
      "60000/60000 [==============================] - 7s 108us/sample - loss: 0.5355 - acc: 0.7995 - val_loss: 0.6228 - val_acc: 0.7325\n",
      "Epoch 9/10\n",
      "60000/60000 [==============================] - 6s 108us/sample - loss: 0.5233 - acc: 0.8067 - val_loss: 0.5114 - val_acc: 0.8077\n",
      "Epoch 10/10\n",
      "60000/60000 [==============================] - 7s 108us/sample - loss: 0.5239 - acc: 0.8067 - val_loss: 0.5922 - val_acc: 0.7563\n"
     ]
    }
   ],
   "source": [
    "history = model.fit(train_img, train_label, epochs=10, validation_data=(test_img, test_label))"
   ]
  },
  {
   "cell_type": "code",
   "execution_count": 20,
   "metadata": {},
   "outputs": [],
   "source": [
    "# mutiple inputs\n",
    "# for example, we want to see if two pictures are the same category\n",
    "# then we need two different image matrixs together as input\n",
    "input_1 = keras.Input(shape=(28, 28))\n",
    "input_2 = keras.Input(shape=(28, 28))\n",
    "x1 = keras.layers.Flatten()(input_1)\n",
    "x2 = keras.layers.Flatten()(input_2)\n",
    "x = keras.layers.concatenate([x1, x2])"
   ]
  },
  {
   "cell_type": "code",
   "execution_count": 23,
   "metadata": {},
   "outputs": [
    {
     "data": {
      "text/plain": [
       "TensorShape([None, 1568])"
      ]
     },
     "execution_count": 23,
     "metadata": {},
     "output_type": "execute_result"
    }
   ],
   "source": [
    "# 28*28*2 = 1568\n",
    "x.shape"
   ]
  },
  {
   "cell_type": "code",
   "execution_count": 26,
   "metadata": {},
   "outputs": [],
   "source": [
    "x = keras.layers.Dense(32, activation='relu')(x)\n",
    "output = keras.layers.Dense(1, activation='sigmoid')(x)\n",
    "model = keras.Model(inputs=[input_1, input_2], outputs=output)"
   ]
  },
  {
   "cell_type": "code",
   "execution_count": null,
   "metadata": {},
   "outputs": [],
   "source": []
  }
 ],
 "metadata": {
  "kernelspec": {
   "display_name": "Python 3",
   "language": "python",
   "name": "python3"
  },
  "language_info": {
   "codemirror_mode": {
    "name": "ipython",
    "version": 3
   },
   "file_extension": ".py",
   "mimetype": "text/x-python",
   "name": "python",
   "nbconvert_exporter": "python",
   "pygments_lexer": "ipython3",
   "version": "3.7.3"
  }
 },
 "nbformat": 4,
 "nbformat_minor": 2
}
