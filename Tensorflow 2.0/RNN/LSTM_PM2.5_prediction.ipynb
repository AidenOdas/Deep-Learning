{
 "cells": [
  {
   "cell_type": "code",
   "execution_count": 1,
   "metadata": {},
   "outputs": [],
   "source": [
    "import tensorflow as tf\n",
    "from tensorflow import keras\n",
    "from tensorflow.keras import layers\n",
    "import pandas as pd\n",
    "import numpy as np\n",
    "import matplotlib.pyplot as plt\n",
    "%matplotlib inline"
   ]
  },
  {
   "cell_type": "code",
   "execution_count": 2,
   "metadata": {},
   "outputs": [],
   "source": [
    "data = pd.read_csv('./dataset/PRSA_data_2010.1.1-2014.12.31.csv')"
   ]
  },
  {
   "cell_type": "code",
   "execution_count": 3,
   "metadata": {},
   "outputs": [
    {
     "data": {
      "text/html": [
       "<div>\n",
       "<style scoped>\n",
       "    .dataframe tbody tr th:only-of-type {\n",
       "        vertical-align: middle;\n",
       "    }\n",
       "\n",
       "    .dataframe tbody tr th {\n",
       "        vertical-align: top;\n",
       "    }\n",
       "\n",
       "    .dataframe thead th {\n",
       "        text-align: right;\n",
       "    }\n",
       "</style>\n",
       "<table border=\"1\" class=\"dataframe\">\n",
       "  <thead>\n",
       "    <tr style=\"text-align: right;\">\n",
       "      <th></th>\n",
       "      <th>No</th>\n",
       "      <th>year</th>\n",
       "      <th>month</th>\n",
       "      <th>day</th>\n",
       "      <th>hour</th>\n",
       "      <th>pm2.5</th>\n",
       "      <th>DEWP</th>\n",
       "      <th>TEMP</th>\n",
       "      <th>PRES</th>\n",
       "      <th>cbwd</th>\n",
       "      <th>Iws</th>\n",
       "      <th>Is</th>\n",
       "      <th>Ir</th>\n",
       "    </tr>\n",
       "  </thead>\n",
       "  <tbody>\n",
       "    <tr>\n",
       "      <th>0</th>\n",
       "      <td>1</td>\n",
       "      <td>2010</td>\n",
       "      <td>1</td>\n",
       "      <td>1</td>\n",
       "      <td>0</td>\n",
       "      <td>NaN</td>\n",
       "      <td>-21</td>\n",
       "      <td>-11.0</td>\n",
       "      <td>1021.0</td>\n",
       "      <td>NW</td>\n",
       "      <td>1.79</td>\n",
       "      <td>0</td>\n",
       "      <td>0</td>\n",
       "    </tr>\n",
       "    <tr>\n",
       "      <th>1</th>\n",
       "      <td>2</td>\n",
       "      <td>2010</td>\n",
       "      <td>1</td>\n",
       "      <td>1</td>\n",
       "      <td>1</td>\n",
       "      <td>NaN</td>\n",
       "      <td>-21</td>\n",
       "      <td>-12.0</td>\n",
       "      <td>1020.0</td>\n",
       "      <td>NW</td>\n",
       "      <td>4.92</td>\n",
       "      <td>0</td>\n",
       "      <td>0</td>\n",
       "    </tr>\n",
       "    <tr>\n",
       "      <th>2</th>\n",
       "      <td>3</td>\n",
       "      <td>2010</td>\n",
       "      <td>1</td>\n",
       "      <td>1</td>\n",
       "      <td>2</td>\n",
       "      <td>NaN</td>\n",
       "      <td>-21</td>\n",
       "      <td>-11.0</td>\n",
       "      <td>1019.0</td>\n",
       "      <td>NW</td>\n",
       "      <td>6.71</td>\n",
       "      <td>0</td>\n",
       "      <td>0</td>\n",
       "    </tr>\n",
       "    <tr>\n",
       "      <th>3</th>\n",
       "      <td>4</td>\n",
       "      <td>2010</td>\n",
       "      <td>1</td>\n",
       "      <td>1</td>\n",
       "      <td>3</td>\n",
       "      <td>NaN</td>\n",
       "      <td>-21</td>\n",
       "      <td>-14.0</td>\n",
       "      <td>1019.0</td>\n",
       "      <td>NW</td>\n",
       "      <td>9.84</td>\n",
       "      <td>0</td>\n",
       "      <td>0</td>\n",
       "    </tr>\n",
       "    <tr>\n",
       "      <th>4</th>\n",
       "      <td>5</td>\n",
       "      <td>2010</td>\n",
       "      <td>1</td>\n",
       "      <td>1</td>\n",
       "      <td>4</td>\n",
       "      <td>NaN</td>\n",
       "      <td>-20</td>\n",
       "      <td>-12.0</td>\n",
       "      <td>1018.0</td>\n",
       "      <td>NW</td>\n",
       "      <td>12.97</td>\n",
       "      <td>0</td>\n",
       "      <td>0</td>\n",
       "    </tr>\n",
       "  </tbody>\n",
       "</table>\n",
       "</div>"
      ],
      "text/plain": [
       "   No  year  month  day  hour  pm2.5  DEWP  TEMP    PRES cbwd    Iws  Is  Ir\n",
       "0   1  2010      1    1     0    NaN   -21 -11.0  1021.0   NW   1.79   0   0\n",
       "1   2  2010      1    1     1    NaN   -21 -12.0  1020.0   NW   4.92   0   0\n",
       "2   3  2010      1    1     2    NaN   -21 -11.0  1019.0   NW   6.71   0   0\n",
       "3   4  2010      1    1     3    NaN   -21 -14.0  1019.0   NW   9.84   0   0\n",
       "4   5  2010      1    1     4    NaN   -20 -12.0  1018.0   NW  12.97   0   0"
      ]
     },
     "execution_count": 3,
     "metadata": {},
     "output_type": "execute_result"
    }
   ],
   "source": [
    "data.head()"
   ]
  },
  {
   "cell_type": "code",
   "execution_count": 4,
   "metadata": {},
   "outputs": [
    {
     "name": "stdout",
     "output_type": "stream",
     "text": [
      "<class 'pandas.core.frame.DataFrame'>\n",
      "RangeIndex: 43824 entries, 0 to 43823\n",
      "Data columns (total 13 columns):\n",
      "No       43824 non-null int64\n",
      "year     43824 non-null int64\n",
      "month    43824 non-null int64\n",
      "day      43824 non-null int64\n",
      "hour     43824 non-null int64\n",
      "pm2.5    41757 non-null float64\n",
      "DEWP     43824 non-null int64\n",
      "TEMP     43824 non-null float64\n",
      "PRES     43824 non-null float64\n",
      "cbwd     43824 non-null object\n",
      "Iws      43824 non-null float64\n",
      "Is       43824 non-null int64\n",
      "Ir       43824 non-null int64\n",
      "dtypes: float64(4), int64(8), object(1)\n",
      "memory usage: 4.3+ MB\n"
     ]
    }
   ],
   "source": [
    "data.info()"
   ]
  },
  {
   "cell_type": "code",
   "execution_count": 5,
   "metadata": {},
   "outputs": [
    {
     "data": {
      "text/plain": [
       "Index(['No', 'year', 'month', 'day', 'hour', 'pm2.5', 'DEWP', 'TEMP', 'PRES',\n",
       "       'cbwd', 'Iws', 'Is', 'Ir'],\n",
       "      dtype='object')"
      ]
     },
     "execution_count": 5,
     "metadata": {},
     "output_type": "execute_result"
    }
   ],
   "source": [
    "data.columns"
   ]
  },
  {
   "cell_type": "code",
   "execution_count": 6,
   "metadata": {},
   "outputs": [
    {
     "data": {
      "text/plain": [
       "2067"
      ]
     },
     "execution_count": 6,
     "metadata": {},
     "output_type": "execute_result"
    }
   ],
   "source": [
    "# see how many none values in pm2.5 column\n",
    "data['pm2.5'].isna().sum()"
   ]
  },
  {
   "cell_type": "code",
   "execution_count": 7,
   "metadata": {},
   "outputs": [],
   "source": [
    "# at least the first 23 could be droped since the value is none\n",
    "# other 'nones': fill them with the closest data\n",
    "# here I fill them with their previous data\n",
    "data = data.iloc[24:].fillna(method='ffill')"
   ]
  },
  {
   "cell_type": "code",
   "execution_count": 8,
   "metadata": {},
   "outputs": [
    {
     "data": {
      "text/plain": [
       "0"
      ]
     },
     "execution_count": 8,
     "metadata": {},
     "output_type": "execute_result"
    }
   ],
   "source": [
    "data['pm2.5'].isna().sum()"
   ]
  },
  {
   "cell_type": "code",
   "execution_count": 9,
   "metadata": {},
   "outputs": [
    {
     "data": {
      "text/html": [
       "<div>\n",
       "<style scoped>\n",
       "    .dataframe tbody tr th:only-of-type {\n",
       "        vertical-align: middle;\n",
       "    }\n",
       "\n",
       "    .dataframe tbody tr th {\n",
       "        vertical-align: top;\n",
       "    }\n",
       "\n",
       "    .dataframe thead th {\n",
       "        text-align: right;\n",
       "    }\n",
       "</style>\n",
       "<table border=\"1\" class=\"dataframe\">\n",
       "  <thead>\n",
       "    <tr style=\"text-align: right;\">\n",
       "      <th></th>\n",
       "      <th>No</th>\n",
       "      <th>year</th>\n",
       "      <th>month</th>\n",
       "      <th>day</th>\n",
       "      <th>hour</th>\n",
       "      <th>pm2.5</th>\n",
       "      <th>DEWP</th>\n",
       "      <th>TEMP</th>\n",
       "      <th>PRES</th>\n",
       "      <th>cbwd</th>\n",
       "      <th>Iws</th>\n",
       "      <th>Is</th>\n",
       "      <th>Ir</th>\n",
       "    </tr>\n",
       "  </thead>\n",
       "  <tbody>\n",
       "    <tr>\n",
       "      <th>24</th>\n",
       "      <td>25</td>\n",
       "      <td>2010</td>\n",
       "      <td>1</td>\n",
       "      <td>2</td>\n",
       "      <td>0</td>\n",
       "      <td>129.0</td>\n",
       "      <td>-16</td>\n",
       "      <td>-4.0</td>\n",
       "      <td>1020.0</td>\n",
       "      <td>SE</td>\n",
       "      <td>1.79</td>\n",
       "      <td>0</td>\n",
       "      <td>0</td>\n",
       "    </tr>\n",
       "    <tr>\n",
       "      <th>25</th>\n",
       "      <td>26</td>\n",
       "      <td>2010</td>\n",
       "      <td>1</td>\n",
       "      <td>2</td>\n",
       "      <td>1</td>\n",
       "      <td>148.0</td>\n",
       "      <td>-15</td>\n",
       "      <td>-4.0</td>\n",
       "      <td>1020.0</td>\n",
       "      <td>SE</td>\n",
       "      <td>2.68</td>\n",
       "      <td>0</td>\n",
       "      <td>0</td>\n",
       "    </tr>\n",
       "    <tr>\n",
       "      <th>26</th>\n",
       "      <td>27</td>\n",
       "      <td>2010</td>\n",
       "      <td>1</td>\n",
       "      <td>2</td>\n",
       "      <td>2</td>\n",
       "      <td>159.0</td>\n",
       "      <td>-11</td>\n",
       "      <td>-5.0</td>\n",
       "      <td>1021.0</td>\n",
       "      <td>SE</td>\n",
       "      <td>3.57</td>\n",
       "      <td>0</td>\n",
       "      <td>0</td>\n",
       "    </tr>\n",
       "    <tr>\n",
       "      <th>27</th>\n",
       "      <td>28</td>\n",
       "      <td>2010</td>\n",
       "      <td>1</td>\n",
       "      <td>2</td>\n",
       "      <td>3</td>\n",
       "      <td>181.0</td>\n",
       "      <td>-7</td>\n",
       "      <td>-5.0</td>\n",
       "      <td>1022.0</td>\n",
       "      <td>SE</td>\n",
       "      <td>5.36</td>\n",
       "      <td>1</td>\n",
       "      <td>0</td>\n",
       "    </tr>\n",
       "    <tr>\n",
       "      <th>28</th>\n",
       "      <td>29</td>\n",
       "      <td>2010</td>\n",
       "      <td>1</td>\n",
       "      <td>2</td>\n",
       "      <td>4</td>\n",
       "      <td>138.0</td>\n",
       "      <td>-7</td>\n",
       "      <td>-5.0</td>\n",
       "      <td>1022.0</td>\n",
       "      <td>SE</td>\n",
       "      <td>6.25</td>\n",
       "      <td>2</td>\n",
       "      <td>0</td>\n",
       "    </tr>\n",
       "  </tbody>\n",
       "</table>\n",
       "</div>"
      ],
      "text/plain": [
       "    No  year  month  day  hour  pm2.5  DEWP  TEMP    PRES cbwd   Iws  Is  Ir\n",
       "24  25  2010      1    2     0  129.0   -16  -4.0  1020.0   SE  1.79   0   0\n",
       "25  26  2010      1    2     1  148.0   -15  -4.0  1020.0   SE  2.68   0   0\n",
       "26  27  2010      1    2     2  159.0   -11  -5.0  1021.0   SE  3.57   0   0\n",
       "27  28  2010      1    2     3  181.0    -7  -5.0  1022.0   SE  5.36   1   0\n",
       "28  29  2010      1    2     4  138.0    -7  -5.0  1022.0   SE  6.25   2   0"
      ]
     },
     "execution_count": 9,
     "metadata": {},
     "output_type": "execute_result"
    }
   ],
   "source": [
    "data.head()"
   ]
  },
  {
   "cell_type": "code",
   "execution_count": 10,
   "metadata": {},
   "outputs": [],
   "source": [
    "import datetime"
   ]
  },
  {
   "cell_type": "code",
   "execution_count": 11,
   "metadata": {},
   "outputs": [
    {
     "data": {
      "text/plain": [
       "datetime.datetime(2080, 1, 1, 1, 0)"
      ]
     },
     "execution_count": 11,
     "metadata": {},
     "output_type": "execute_result"
    }
   ],
   "source": [
    "datetime.datetime(year=2080, month=1, day=1, hour=1)"
   ]
  },
  {
   "cell_type": "code",
   "execution_count": 12,
   "metadata": {},
   "outputs": [],
   "source": [
    "data['time'] = data.apply(lambda x: datetime.datetime(year=x['year'], month=x['month'], day=x['day'], hour=x['hour']), axis=1)"
   ]
  },
  {
   "cell_type": "code",
   "execution_count": 13,
   "metadata": {},
   "outputs": [
    {
     "data": {
      "text/html": [
       "<div>\n",
       "<style scoped>\n",
       "    .dataframe tbody tr th:only-of-type {\n",
       "        vertical-align: middle;\n",
       "    }\n",
       "\n",
       "    .dataframe tbody tr th {\n",
       "        vertical-align: top;\n",
       "    }\n",
       "\n",
       "    .dataframe thead th {\n",
       "        text-align: right;\n",
       "    }\n",
       "</style>\n",
       "<table border=\"1\" class=\"dataframe\">\n",
       "  <thead>\n",
       "    <tr style=\"text-align: right;\">\n",
       "      <th></th>\n",
       "      <th>No</th>\n",
       "      <th>year</th>\n",
       "      <th>month</th>\n",
       "      <th>day</th>\n",
       "      <th>hour</th>\n",
       "      <th>pm2.5</th>\n",
       "      <th>DEWP</th>\n",
       "      <th>TEMP</th>\n",
       "      <th>PRES</th>\n",
       "      <th>cbwd</th>\n",
       "      <th>Iws</th>\n",
       "      <th>Is</th>\n",
       "      <th>Ir</th>\n",
       "      <th>time</th>\n",
       "    </tr>\n",
       "  </thead>\n",
       "  <tbody>\n",
       "    <tr>\n",
       "      <th>24</th>\n",
       "      <td>25</td>\n",
       "      <td>2010</td>\n",
       "      <td>1</td>\n",
       "      <td>2</td>\n",
       "      <td>0</td>\n",
       "      <td>129.0</td>\n",
       "      <td>-16</td>\n",
       "      <td>-4.0</td>\n",
       "      <td>1020.0</td>\n",
       "      <td>SE</td>\n",
       "      <td>1.79</td>\n",
       "      <td>0</td>\n",
       "      <td>0</td>\n",
       "      <td>2010-01-02 00:00:00</td>\n",
       "    </tr>\n",
       "    <tr>\n",
       "      <th>25</th>\n",
       "      <td>26</td>\n",
       "      <td>2010</td>\n",
       "      <td>1</td>\n",
       "      <td>2</td>\n",
       "      <td>1</td>\n",
       "      <td>148.0</td>\n",
       "      <td>-15</td>\n",
       "      <td>-4.0</td>\n",
       "      <td>1020.0</td>\n",
       "      <td>SE</td>\n",
       "      <td>2.68</td>\n",
       "      <td>0</td>\n",
       "      <td>0</td>\n",
       "      <td>2010-01-02 01:00:00</td>\n",
       "    </tr>\n",
       "    <tr>\n",
       "      <th>26</th>\n",
       "      <td>27</td>\n",
       "      <td>2010</td>\n",
       "      <td>1</td>\n",
       "      <td>2</td>\n",
       "      <td>2</td>\n",
       "      <td>159.0</td>\n",
       "      <td>-11</td>\n",
       "      <td>-5.0</td>\n",
       "      <td>1021.0</td>\n",
       "      <td>SE</td>\n",
       "      <td>3.57</td>\n",
       "      <td>0</td>\n",
       "      <td>0</td>\n",
       "      <td>2010-01-02 02:00:00</td>\n",
       "    </tr>\n",
       "    <tr>\n",
       "      <th>27</th>\n",
       "      <td>28</td>\n",
       "      <td>2010</td>\n",
       "      <td>1</td>\n",
       "      <td>2</td>\n",
       "      <td>3</td>\n",
       "      <td>181.0</td>\n",
       "      <td>-7</td>\n",
       "      <td>-5.0</td>\n",
       "      <td>1022.0</td>\n",
       "      <td>SE</td>\n",
       "      <td>5.36</td>\n",
       "      <td>1</td>\n",
       "      <td>0</td>\n",
       "      <td>2010-01-02 03:00:00</td>\n",
       "    </tr>\n",
       "    <tr>\n",
       "      <th>28</th>\n",
       "      <td>29</td>\n",
       "      <td>2010</td>\n",
       "      <td>1</td>\n",
       "      <td>2</td>\n",
       "      <td>4</td>\n",
       "      <td>138.0</td>\n",
       "      <td>-7</td>\n",
       "      <td>-5.0</td>\n",
       "      <td>1022.0</td>\n",
       "      <td>SE</td>\n",
       "      <td>6.25</td>\n",
       "      <td>2</td>\n",
       "      <td>0</td>\n",
       "      <td>2010-01-02 04:00:00</td>\n",
       "    </tr>\n",
       "  </tbody>\n",
       "</table>\n",
       "</div>"
      ],
      "text/plain": [
       "    No  year  month  day  hour  pm2.5  DEWP  TEMP    PRES cbwd   Iws  Is  Ir  \\\n",
       "24  25  2010      1    2     0  129.0   -16  -4.0  1020.0   SE  1.79   0   0   \n",
       "25  26  2010      1    2     1  148.0   -15  -4.0  1020.0   SE  2.68   0   0   \n",
       "26  27  2010      1    2     2  159.0   -11  -5.0  1021.0   SE  3.57   0   0   \n",
       "27  28  2010      1    2     3  181.0    -7  -5.0  1022.0   SE  5.36   1   0   \n",
       "28  29  2010      1    2     4  138.0    -7  -5.0  1022.0   SE  6.25   2   0   \n",
       "\n",
       "                  time  \n",
       "24 2010-01-02 00:00:00  \n",
       "25 2010-01-02 01:00:00  \n",
       "26 2010-01-02 02:00:00  \n",
       "27 2010-01-02 03:00:00  \n",
       "28 2010-01-02 04:00:00  "
      ]
     },
     "execution_count": 13,
     "metadata": {},
     "output_type": "execute_result"
    }
   ],
   "source": [
    "data.head()"
   ]
  },
  {
   "cell_type": "code",
   "execution_count": 14,
   "metadata": {},
   "outputs": [],
   "source": [
    "data.drop(columns=['year', 'month', 'day', 'hour', 'No'], inplace=True)"
   ]
  },
  {
   "cell_type": "code",
   "execution_count": 15,
   "metadata": {},
   "outputs": [
    {
     "data": {
      "text/html": [
       "<div>\n",
       "<style scoped>\n",
       "    .dataframe tbody tr th:only-of-type {\n",
       "        vertical-align: middle;\n",
       "    }\n",
       "\n",
       "    .dataframe tbody tr th {\n",
       "        vertical-align: top;\n",
       "    }\n",
       "\n",
       "    .dataframe thead th {\n",
       "        text-align: right;\n",
       "    }\n",
       "</style>\n",
       "<table border=\"1\" class=\"dataframe\">\n",
       "  <thead>\n",
       "    <tr style=\"text-align: right;\">\n",
       "      <th></th>\n",
       "      <th>pm2.5</th>\n",
       "      <th>DEWP</th>\n",
       "      <th>TEMP</th>\n",
       "      <th>PRES</th>\n",
       "      <th>cbwd</th>\n",
       "      <th>Iws</th>\n",
       "      <th>Is</th>\n",
       "      <th>Ir</th>\n",
       "      <th>time</th>\n",
       "    </tr>\n",
       "  </thead>\n",
       "  <tbody>\n",
       "    <tr>\n",
       "      <th>24</th>\n",
       "      <td>129.0</td>\n",
       "      <td>-16</td>\n",
       "      <td>-4.0</td>\n",
       "      <td>1020.0</td>\n",
       "      <td>SE</td>\n",
       "      <td>1.79</td>\n",
       "      <td>0</td>\n",
       "      <td>0</td>\n",
       "      <td>2010-01-02 00:00:00</td>\n",
       "    </tr>\n",
       "    <tr>\n",
       "      <th>25</th>\n",
       "      <td>148.0</td>\n",
       "      <td>-15</td>\n",
       "      <td>-4.0</td>\n",
       "      <td>1020.0</td>\n",
       "      <td>SE</td>\n",
       "      <td>2.68</td>\n",
       "      <td>0</td>\n",
       "      <td>0</td>\n",
       "      <td>2010-01-02 01:00:00</td>\n",
       "    </tr>\n",
       "    <tr>\n",
       "      <th>26</th>\n",
       "      <td>159.0</td>\n",
       "      <td>-11</td>\n",
       "      <td>-5.0</td>\n",
       "      <td>1021.0</td>\n",
       "      <td>SE</td>\n",
       "      <td>3.57</td>\n",
       "      <td>0</td>\n",
       "      <td>0</td>\n",
       "      <td>2010-01-02 02:00:00</td>\n",
       "    </tr>\n",
       "    <tr>\n",
       "      <th>27</th>\n",
       "      <td>181.0</td>\n",
       "      <td>-7</td>\n",
       "      <td>-5.0</td>\n",
       "      <td>1022.0</td>\n",
       "      <td>SE</td>\n",
       "      <td>5.36</td>\n",
       "      <td>1</td>\n",
       "      <td>0</td>\n",
       "      <td>2010-01-02 03:00:00</td>\n",
       "    </tr>\n",
       "    <tr>\n",
       "      <th>28</th>\n",
       "      <td>138.0</td>\n",
       "      <td>-7</td>\n",
       "      <td>-5.0</td>\n",
       "      <td>1022.0</td>\n",
       "      <td>SE</td>\n",
       "      <td>6.25</td>\n",
       "      <td>2</td>\n",
       "      <td>0</td>\n",
       "      <td>2010-01-02 04:00:00</td>\n",
       "    </tr>\n",
       "  </tbody>\n",
       "</table>\n",
       "</div>"
      ],
      "text/plain": [
       "    pm2.5  DEWP  TEMP    PRES cbwd   Iws  Is  Ir                time\n",
       "24  129.0   -16  -4.0  1020.0   SE  1.79   0   0 2010-01-02 00:00:00\n",
       "25  148.0   -15  -4.0  1020.0   SE  2.68   0   0 2010-01-02 01:00:00\n",
       "26  159.0   -11  -5.0  1021.0   SE  3.57   0   0 2010-01-02 02:00:00\n",
       "27  181.0    -7  -5.0  1022.0   SE  5.36   1   0 2010-01-02 03:00:00\n",
       "28  138.0    -7  -5.0  1022.0   SE  6.25   2   0 2010-01-02 04:00:00"
      ]
     },
     "execution_count": 15,
     "metadata": {},
     "output_type": "execute_result"
    }
   ],
   "source": [
    "data.head()"
   ]
  },
  {
   "cell_type": "code",
   "execution_count": 16,
   "metadata": {},
   "outputs": [],
   "source": [
    "data.set_index('time', inplace=True)"
   ]
  },
  {
   "cell_type": "code",
   "execution_count": 17,
   "metadata": {},
   "outputs": [
    {
     "data": {
      "text/html": [
       "<div>\n",
       "<style scoped>\n",
       "    .dataframe tbody tr th:only-of-type {\n",
       "        vertical-align: middle;\n",
       "    }\n",
       "\n",
       "    .dataframe tbody tr th {\n",
       "        vertical-align: top;\n",
       "    }\n",
       "\n",
       "    .dataframe thead th {\n",
       "        text-align: right;\n",
       "    }\n",
       "</style>\n",
       "<table border=\"1\" class=\"dataframe\">\n",
       "  <thead>\n",
       "    <tr style=\"text-align: right;\">\n",
       "      <th></th>\n",
       "      <th>pm2.5</th>\n",
       "      <th>DEWP</th>\n",
       "      <th>TEMP</th>\n",
       "      <th>PRES</th>\n",
       "      <th>cbwd</th>\n",
       "      <th>Iws</th>\n",
       "      <th>Is</th>\n",
       "      <th>Ir</th>\n",
       "    </tr>\n",
       "    <tr>\n",
       "      <th>time</th>\n",
       "      <th></th>\n",
       "      <th></th>\n",
       "      <th></th>\n",
       "      <th></th>\n",
       "      <th></th>\n",
       "      <th></th>\n",
       "      <th></th>\n",
       "      <th></th>\n",
       "    </tr>\n",
       "  </thead>\n",
       "  <tbody>\n",
       "    <tr>\n",
       "      <th>2010-01-02 00:00:00</th>\n",
       "      <td>129.0</td>\n",
       "      <td>-16</td>\n",
       "      <td>-4.0</td>\n",
       "      <td>1020.0</td>\n",
       "      <td>SE</td>\n",
       "      <td>1.79</td>\n",
       "      <td>0</td>\n",
       "      <td>0</td>\n",
       "    </tr>\n",
       "    <tr>\n",
       "      <th>2010-01-02 01:00:00</th>\n",
       "      <td>148.0</td>\n",
       "      <td>-15</td>\n",
       "      <td>-4.0</td>\n",
       "      <td>1020.0</td>\n",
       "      <td>SE</td>\n",
       "      <td>2.68</td>\n",
       "      <td>0</td>\n",
       "      <td>0</td>\n",
       "    </tr>\n",
       "    <tr>\n",
       "      <th>2010-01-02 02:00:00</th>\n",
       "      <td>159.0</td>\n",
       "      <td>-11</td>\n",
       "      <td>-5.0</td>\n",
       "      <td>1021.0</td>\n",
       "      <td>SE</td>\n",
       "      <td>3.57</td>\n",
       "      <td>0</td>\n",
       "      <td>0</td>\n",
       "    </tr>\n",
       "    <tr>\n",
       "      <th>2010-01-02 03:00:00</th>\n",
       "      <td>181.0</td>\n",
       "      <td>-7</td>\n",
       "      <td>-5.0</td>\n",
       "      <td>1022.0</td>\n",
       "      <td>SE</td>\n",
       "      <td>5.36</td>\n",
       "      <td>1</td>\n",
       "      <td>0</td>\n",
       "    </tr>\n",
       "    <tr>\n",
       "      <th>2010-01-02 04:00:00</th>\n",
       "      <td>138.0</td>\n",
       "      <td>-7</td>\n",
       "      <td>-5.0</td>\n",
       "      <td>1022.0</td>\n",
       "      <td>SE</td>\n",
       "      <td>6.25</td>\n",
       "      <td>2</td>\n",
       "      <td>0</td>\n",
       "    </tr>\n",
       "  </tbody>\n",
       "</table>\n",
       "</div>"
      ],
      "text/plain": [
       "                     pm2.5  DEWP  TEMP    PRES cbwd   Iws  Is  Ir\n",
       "time                                                             \n",
       "2010-01-02 00:00:00  129.0   -16  -4.0  1020.0   SE  1.79   0   0\n",
       "2010-01-02 01:00:00  148.0   -15  -4.0  1020.0   SE  2.68   0   0\n",
       "2010-01-02 02:00:00  159.0   -11  -5.0  1021.0   SE  3.57   0   0\n",
       "2010-01-02 03:00:00  181.0    -7  -5.0  1022.0   SE  5.36   1   0\n",
       "2010-01-02 04:00:00  138.0    -7  -5.0  1022.0   SE  6.25   2   0"
      ]
     },
     "execution_count": 17,
     "metadata": {},
     "output_type": "execute_result"
    }
   ],
   "source": [
    "data.head()"
   ]
  },
  {
   "cell_type": "code",
   "execution_count": 18,
   "metadata": {},
   "outputs": [
    {
     "data": {
      "text/plain": [
       "array(['SE', 'cv', 'NW', 'NE'], dtype=object)"
      ]
     },
     "execution_count": 18,
     "metadata": {},
     "output_type": "execute_result"
    }
   ],
   "source": [
    "data.cbwd.unique()"
   ]
  },
  {
   "cell_type": "code",
   "execution_count": 19,
   "metadata": {},
   "outputs": [],
   "source": [
    "data = data.join(pd.get_dummies(data.cbwd))"
   ]
  },
  {
   "cell_type": "code",
   "execution_count": 20,
   "metadata": {},
   "outputs": [
    {
     "data": {
      "text/html": [
       "<div>\n",
       "<style scoped>\n",
       "    .dataframe tbody tr th:only-of-type {\n",
       "        vertical-align: middle;\n",
       "    }\n",
       "\n",
       "    .dataframe tbody tr th {\n",
       "        vertical-align: top;\n",
       "    }\n",
       "\n",
       "    .dataframe thead th {\n",
       "        text-align: right;\n",
       "    }\n",
       "</style>\n",
       "<table border=\"1\" class=\"dataframe\">\n",
       "  <thead>\n",
       "    <tr style=\"text-align: right;\">\n",
       "      <th></th>\n",
       "      <th>pm2.5</th>\n",
       "      <th>DEWP</th>\n",
       "      <th>TEMP</th>\n",
       "      <th>PRES</th>\n",
       "      <th>cbwd</th>\n",
       "      <th>Iws</th>\n",
       "      <th>Is</th>\n",
       "      <th>Ir</th>\n",
       "      <th>NE</th>\n",
       "      <th>NW</th>\n",
       "      <th>SE</th>\n",
       "      <th>cv</th>\n",
       "    </tr>\n",
       "    <tr>\n",
       "      <th>time</th>\n",
       "      <th></th>\n",
       "      <th></th>\n",
       "      <th></th>\n",
       "      <th></th>\n",
       "      <th></th>\n",
       "      <th></th>\n",
       "      <th></th>\n",
       "      <th></th>\n",
       "      <th></th>\n",
       "      <th></th>\n",
       "      <th></th>\n",
       "      <th></th>\n",
       "    </tr>\n",
       "  </thead>\n",
       "  <tbody>\n",
       "    <tr>\n",
       "      <th>2010-01-02 00:00:00</th>\n",
       "      <td>129.0</td>\n",
       "      <td>-16</td>\n",
       "      <td>-4.0</td>\n",
       "      <td>1020.0</td>\n",
       "      <td>SE</td>\n",
       "      <td>1.79</td>\n",
       "      <td>0</td>\n",
       "      <td>0</td>\n",
       "      <td>0</td>\n",
       "      <td>0</td>\n",
       "      <td>1</td>\n",
       "      <td>0</td>\n",
       "    </tr>\n",
       "    <tr>\n",
       "      <th>2010-01-02 01:00:00</th>\n",
       "      <td>148.0</td>\n",
       "      <td>-15</td>\n",
       "      <td>-4.0</td>\n",
       "      <td>1020.0</td>\n",
       "      <td>SE</td>\n",
       "      <td>2.68</td>\n",
       "      <td>0</td>\n",
       "      <td>0</td>\n",
       "      <td>0</td>\n",
       "      <td>0</td>\n",
       "      <td>1</td>\n",
       "      <td>0</td>\n",
       "    </tr>\n",
       "    <tr>\n",
       "      <th>2010-01-02 02:00:00</th>\n",
       "      <td>159.0</td>\n",
       "      <td>-11</td>\n",
       "      <td>-5.0</td>\n",
       "      <td>1021.0</td>\n",
       "      <td>SE</td>\n",
       "      <td>3.57</td>\n",
       "      <td>0</td>\n",
       "      <td>0</td>\n",
       "      <td>0</td>\n",
       "      <td>0</td>\n",
       "      <td>1</td>\n",
       "      <td>0</td>\n",
       "    </tr>\n",
       "    <tr>\n",
       "      <th>2010-01-02 03:00:00</th>\n",
       "      <td>181.0</td>\n",
       "      <td>-7</td>\n",
       "      <td>-5.0</td>\n",
       "      <td>1022.0</td>\n",
       "      <td>SE</td>\n",
       "      <td>5.36</td>\n",
       "      <td>1</td>\n",
       "      <td>0</td>\n",
       "      <td>0</td>\n",
       "      <td>0</td>\n",
       "      <td>1</td>\n",
       "      <td>0</td>\n",
       "    </tr>\n",
       "    <tr>\n",
       "      <th>2010-01-02 04:00:00</th>\n",
       "      <td>138.0</td>\n",
       "      <td>-7</td>\n",
       "      <td>-5.0</td>\n",
       "      <td>1022.0</td>\n",
       "      <td>SE</td>\n",
       "      <td>6.25</td>\n",
       "      <td>2</td>\n",
       "      <td>0</td>\n",
       "      <td>0</td>\n",
       "      <td>0</td>\n",
       "      <td>1</td>\n",
       "      <td>0</td>\n",
       "    </tr>\n",
       "  </tbody>\n",
       "</table>\n",
       "</div>"
      ],
      "text/plain": [
       "                     pm2.5  DEWP  TEMP    PRES cbwd   Iws  Is  Ir  NE  NW  SE  \\\n",
       "time                                                                            \n",
       "2010-01-02 00:00:00  129.0   -16  -4.0  1020.0   SE  1.79   0   0   0   0   1   \n",
       "2010-01-02 01:00:00  148.0   -15  -4.0  1020.0   SE  2.68   0   0   0   0   1   \n",
       "2010-01-02 02:00:00  159.0   -11  -5.0  1021.0   SE  3.57   0   0   0   0   1   \n",
       "2010-01-02 03:00:00  181.0    -7  -5.0  1022.0   SE  5.36   1   0   0   0   1   \n",
       "2010-01-02 04:00:00  138.0    -7  -5.0  1022.0   SE  6.25   2   0   0   0   1   \n",
       "\n",
       "                     cv  \n",
       "time                     \n",
       "2010-01-02 00:00:00   0  \n",
       "2010-01-02 01:00:00   0  \n",
       "2010-01-02 02:00:00   0  \n",
       "2010-01-02 03:00:00   0  \n",
       "2010-01-02 04:00:00   0  "
      ]
     },
     "execution_count": 20,
     "metadata": {},
     "output_type": "execute_result"
    }
   ],
   "source": [
    "data.head()"
   ]
  },
  {
   "cell_type": "code",
   "execution_count": 21,
   "metadata": {},
   "outputs": [],
   "source": [
    "del data['cbwd']"
   ]
  },
  {
   "cell_type": "code",
   "execution_count": 22,
   "metadata": {},
   "outputs": [
    {
     "data": {
      "text/html": [
       "<div>\n",
       "<style scoped>\n",
       "    .dataframe tbody tr th:only-of-type {\n",
       "        vertical-align: middle;\n",
       "    }\n",
       "\n",
       "    .dataframe tbody tr th {\n",
       "        vertical-align: top;\n",
       "    }\n",
       "\n",
       "    .dataframe thead th {\n",
       "        text-align: right;\n",
       "    }\n",
       "</style>\n",
       "<table border=\"1\" class=\"dataframe\">\n",
       "  <thead>\n",
       "    <tr style=\"text-align: right;\">\n",
       "      <th></th>\n",
       "      <th>pm2.5</th>\n",
       "      <th>DEWP</th>\n",
       "      <th>TEMP</th>\n",
       "      <th>PRES</th>\n",
       "      <th>Iws</th>\n",
       "      <th>Is</th>\n",
       "      <th>Ir</th>\n",
       "      <th>NE</th>\n",
       "      <th>NW</th>\n",
       "      <th>SE</th>\n",
       "      <th>cv</th>\n",
       "    </tr>\n",
       "    <tr>\n",
       "      <th>time</th>\n",
       "      <th></th>\n",
       "      <th></th>\n",
       "      <th></th>\n",
       "      <th></th>\n",
       "      <th></th>\n",
       "      <th></th>\n",
       "      <th></th>\n",
       "      <th></th>\n",
       "      <th></th>\n",
       "      <th></th>\n",
       "      <th></th>\n",
       "    </tr>\n",
       "  </thead>\n",
       "  <tbody>\n",
       "    <tr>\n",
       "      <th>2010-01-02 00:00:00</th>\n",
       "      <td>129.0</td>\n",
       "      <td>-16</td>\n",
       "      <td>-4.0</td>\n",
       "      <td>1020.0</td>\n",
       "      <td>1.79</td>\n",
       "      <td>0</td>\n",
       "      <td>0</td>\n",
       "      <td>0</td>\n",
       "      <td>0</td>\n",
       "      <td>1</td>\n",
       "      <td>0</td>\n",
       "    </tr>\n",
       "    <tr>\n",
       "      <th>2010-01-02 01:00:00</th>\n",
       "      <td>148.0</td>\n",
       "      <td>-15</td>\n",
       "      <td>-4.0</td>\n",
       "      <td>1020.0</td>\n",
       "      <td>2.68</td>\n",
       "      <td>0</td>\n",
       "      <td>0</td>\n",
       "      <td>0</td>\n",
       "      <td>0</td>\n",
       "      <td>1</td>\n",
       "      <td>0</td>\n",
       "    </tr>\n",
       "    <tr>\n",
       "      <th>2010-01-02 02:00:00</th>\n",
       "      <td>159.0</td>\n",
       "      <td>-11</td>\n",
       "      <td>-5.0</td>\n",
       "      <td>1021.0</td>\n",
       "      <td>3.57</td>\n",
       "      <td>0</td>\n",
       "      <td>0</td>\n",
       "      <td>0</td>\n",
       "      <td>0</td>\n",
       "      <td>1</td>\n",
       "      <td>0</td>\n",
       "    </tr>\n",
       "    <tr>\n",
       "      <th>2010-01-02 03:00:00</th>\n",
       "      <td>181.0</td>\n",
       "      <td>-7</td>\n",
       "      <td>-5.0</td>\n",
       "      <td>1022.0</td>\n",
       "      <td>5.36</td>\n",
       "      <td>1</td>\n",
       "      <td>0</td>\n",
       "      <td>0</td>\n",
       "      <td>0</td>\n",
       "      <td>1</td>\n",
       "      <td>0</td>\n",
       "    </tr>\n",
       "    <tr>\n",
       "      <th>2010-01-02 04:00:00</th>\n",
       "      <td>138.0</td>\n",
       "      <td>-7</td>\n",
       "      <td>-5.0</td>\n",
       "      <td>1022.0</td>\n",
       "      <td>6.25</td>\n",
       "      <td>2</td>\n",
       "      <td>0</td>\n",
       "      <td>0</td>\n",
       "      <td>0</td>\n",
       "      <td>1</td>\n",
       "      <td>0</td>\n",
       "    </tr>\n",
       "  </tbody>\n",
       "</table>\n",
       "</div>"
      ],
      "text/plain": [
       "                     pm2.5  DEWP  TEMP    PRES   Iws  Is  Ir  NE  NW  SE  cv\n",
       "time                                                                        \n",
       "2010-01-02 00:00:00  129.0   -16  -4.0  1020.0  1.79   0   0   0   0   1   0\n",
       "2010-01-02 01:00:00  148.0   -15  -4.0  1020.0  2.68   0   0   0   0   1   0\n",
       "2010-01-02 02:00:00  159.0   -11  -5.0  1021.0  3.57   0   0   0   0   1   0\n",
       "2010-01-02 03:00:00  181.0    -7  -5.0  1022.0  5.36   1   0   0   0   1   0\n",
       "2010-01-02 04:00:00  138.0    -7  -5.0  1022.0  6.25   2   0   0   0   1   0"
      ]
     },
     "execution_count": 22,
     "metadata": {},
     "output_type": "execute_result"
    }
   ],
   "source": [
    "data.head()"
   ]
  },
  {
   "cell_type": "code",
   "execution_count": 23,
   "metadata": {},
   "outputs": [
    {
     "data": {
      "text/plain": [
       "<matplotlib.axes._subplots.AxesSubplot at 0x1fed4f031d0>"
      ]
     },
     "execution_count": 23,
     "metadata": {},
     "output_type": "execute_result"
    },
    {
     "data": {
      "image/png": "[encoded data removed]",
      "text/plain": [
       "<Figure size 432x288 with 1 Axes>"
      ]
     },
     "metadata": {
      "needs_background": "light"
     },
     "output_type": "display_data"
    }
   ],
   "source": [
    "data['pm2.5'][-1000:].plot()"
   ]
  },
  {
   "cell_type": "code",
   "execution_count": 24,
   "metadata": {},
   "outputs": [],
   "source": [
    "# use all the previous 5 days' data to predict the next day's data\n",
    "src_len = 5 * 24\n",
    "delay = 24\n",
    "# trg_len = 24"
   ]
  },
  {
   "cell_type": "code",
   "execution_count": 25,
   "metadata": {},
   "outputs": [],
   "source": [
    "data_ = []\n",
    "for i in range(len(data) - src_len - delay):\n",
    "    data_.append(data.iloc[i: i + src_len + delay])"
   ]
  },
  {
   "cell_type": "code",
   "execution_count": 26,
   "metadata": {},
   "outputs": [
    {
     "data": {
      "text/plain": [
       "(144, 11)"
      ]
     },
     "execution_count": 26,
     "metadata": {},
     "output_type": "execute_result"
    }
   ],
   "source": [
    "data_[0].shape"
   ]
  },
  {
   "cell_type": "code",
   "execution_count": 27,
   "metadata": {},
   "outputs": [],
   "source": [
    "data_ = np.array([df.values for df in data_])"
   ]
  },
  {
   "cell_type": "code",
   "execution_count": 28,
   "metadata": {},
   "outputs": [
    {
     "data": {
      "text/plain": [
       "(43656, 144, 11)"
      ]
     },
     "execution_count": 28,
     "metadata": {},
     "output_type": "execute_result"
    }
   ],
   "source": [
    "data_.shape"
   ]
  },
  {
   "cell_type": "code",
   "execution_count": 29,
   "metadata": {},
   "outputs": [],
   "source": [
    "np.random.shuffle(data_)"
   ]
  },
  {
   "cell_type": "code",
   "execution_count": 30,
   "metadata": {},
   "outputs": [],
   "source": [
    "src_data = data_[:, : 5 * 24, :]\n",
    "trg_data = data_[:, -1, 0] "
   ]
  },
  {
   "cell_type": "code",
   "execution_count": 31,
   "metadata": {},
   "outputs": [
    {
     "data": {
      "text/plain": [
       "(43656, 120, 11)"
      ]
     },
     "execution_count": 31,
     "metadata": {},
     "output_type": "execute_result"
    }
   ],
   "source": [
    "src_data.shape"
   ]
  },
  {
   "cell_type": "code",
   "execution_count": 32,
   "metadata": {},
   "outputs": [
    {
     "data": {
      "text/plain": [
       "(43656,)"
      ]
     },
     "execution_count": 32,
     "metadata": {},
     "output_type": "execute_result"
    }
   ],
   "source": [
    "trg_data.shape"
   ]
  },
  {
   "cell_type": "code",
   "execution_count": 33,
   "metadata": {},
   "outputs": [],
   "source": [
    "train_size = int(data_.shape[0] * 0.8)\n",
    "train_data = src_data[: train_size]\n",
    "train_trg = trg_data[: train_size]\n",
    "test_data = src_data[train_size: ]\n",
    "test_trg = trg_data[train_size: ]"
   ]
  },
  {
   "cell_type": "code",
   "execution_count": 34,
   "metadata": {},
   "outputs": [
    {
     "data": {
      "text/plain": [
       "((34924, 120, 11), (34924,))"
      ]
     },
     "execution_count": 34,
     "metadata": {},
     "output_type": "execute_result"
    }
   ],
   "source": [
    "train_data.shape, train_trg.shape"
   ]
  },
  {
   "cell_type": "code",
   "execution_count": 35,
   "metadata": {},
   "outputs": [],
   "source": [
    "# data normalization\n",
    "mean = train_data.mean(axis=0)\n",
    "std = train_data.std(axis=0)"
   ]
  },
  {
   "cell_type": "code",
   "execution_count": 36,
   "metadata": {},
   "outputs": [],
   "source": [
    "train_data = (train_data - mean) / std\n",
    "test_data = (test_data - mean) / std"
   ]
  },
  {
   "cell_type": "code",
   "execution_count": 37,
   "metadata": {},
   "outputs": [],
   "source": [
    "BATCH_SIZE = 128"
   ]
  },
  {
   "cell_type": "code",
   "execution_count": 38,
   "metadata": {},
   "outputs": [
    {
     "data": {
      "text/plain": [
       "(120, 11)"
      ]
     },
     "execution_count": 38,
     "metadata": {},
     "output_type": "execute_result"
    }
   ],
   "source": [
    "train_data.shape[1:]"
   ]
  },
  {
   "cell_type": "code",
   "execution_count": 39,
   "metadata": {},
   "outputs": [],
   "source": [
    "model = keras.Sequential()\n",
    "model.add(layers.Flatten(input_shape=train_data.shape[1:]))\n",
    "model.add(layers.Dense(32, activation='relu'))\n",
    "model.add(layers.Dense(1))"
   ]
  },
  {
   "cell_type": "code",
   "execution_count": 40,
   "metadata": {},
   "outputs": [
    {
     "name": "stdout",
     "output_type": "stream",
     "text": [
      "Train on 34924 samples, validate on 8732 samples\n",
      "Epoch 1/50\n",
      "34924/34924 [==============================] - 2s 50us/sample - loss: 10283.1866 - mae: 72.3814 - val_loss: 7963.4033 - val_mae: 66.7586\n",
      "Epoch 2/50\n",
      "34924/34924 [==============================] - 1s 34us/sample - loss: 7795.5760 - mae: 65.2703 - val_loss: 7118.3940 - val_mae: 62.1217\n",
      "Epoch 3/50\n",
      "34924/34924 [==============================] - 1s 34us/sample - loss: 7145.5991 - mae: 62.1285 - val_loss: 6736.1798 - val_mae: 60.3670\n",
      "Epoch 4/50\n",
      "34924/34924 [==============================] - 1s 35us/sample - loss: 6777.9310 - mae: 60.3336 - val_loss: 6460.8976 - val_mae: 59.1029\n",
      "Epoch 5/50\n",
      "34924/34924 [==============================] - 1s 34us/sample - loss: 6531.7241 - mae: 59.1485 - val_loss: 6284.7983 - val_mae: 58.0526\n",
      "Epoch 6/50\n",
      "34924/34924 [==============================] - 1s 34us/sample - loss: 6341.5222 - mae: 58.3015 - val_loss: 6215.8117 - val_mae: 57.6667\n",
      "Epoch 7/50\n",
      "34924/34924 [==============================] - 1s 34us/sample - loss: 6211.4838 - mae: 57.8127 - val_loss: 6125.4709 - val_mae: 57.9102\n",
      "Epoch 8/50\n",
      "34924/34924 [==============================] - 1s 33us/sample - loss: 6104.5633 - mae: 57.3205 - val_loss: 6040.9645 - val_mae: 57.7347\n",
      "Epoch 9/50\n",
      "34924/34924 [==============================] - 1s 34us/sample - loss: 6012.8572 - mae: 56.9144 - val_loss: 5995.9364 - val_mae: 57.3222\n",
      "Epoch 10/50\n",
      "34924/34924 [==============================] - 1s 34us/sample - loss: 5931.4951 - mae: 56.6108 - val_loss: 5936.3136 - val_mae: 57.4449\n",
      "Epoch 11/50\n",
      "34924/34924 [==============================] - 1s 34us/sample - loss: 5851.0561 - mae: 56.2320 - val_loss: 5899.6404 - val_mae: 56.8195\n",
      "Epoch 12/50\n",
      "34924/34924 [==============================] - 1s 35us/sample - loss: 5772.9831 - mae: 55.8183 - val_loss: 5846.4258 - val_mae: 57.1509\n",
      "Epoch 13/50\n",
      "34924/34924 [==============================] - 1s 38us/sample - loss: 5707.4291 - mae: 55.5843 - val_loss: 5864.0504 - val_mae: 56.6302\n",
      "Epoch 14/50\n",
      "34924/34924 [==============================] - 1s 42us/sample - loss: 5634.2029 - mae: 55.2026 - val_loss: 5831.2257 - val_mae: 57.3419\n",
      "Epoch 15/50\n",
      "34924/34924 [==============================] - 1s 33us/sample - loss: 5577.2185 - mae: 54.9792 - val_loss: 5740.4096 - val_mae: 56.8215\n",
      "Epoch 16/50\n",
      "34924/34924 [==============================] - 1s 33us/sample - loss: 5506.5867 - mae: 54.5944 - val_loss: 5707.4142 - val_mae: 56.5779\n",
      "Epoch 17/50\n",
      "34924/34924 [==============================] - 1s 31us/sample - loss: 5438.0456 - mae: 54.2519 - val_loss: 5626.8302 - val_mae: 56.0424\n",
      "Epoch 18/50\n",
      "34924/34924 [==============================] - 1s 32us/sample - loss: 5375.2285 - mae: 53.9942 - val_loss: 5618.0850 - val_mae: 55.7820\n",
      "Epoch 19/50\n",
      "34924/34924 [==============================] - 1s 31us/sample - loss: 5311.3110 - mae: 53.6151 - val_loss: 5567.0289 - val_mae: 56.1059\n",
      "Epoch 20/50\n",
      "34924/34924 [==============================] - 1s 31us/sample - loss: 5239.3245 - mae: 53.2321 - val_loss: 5517.4710 - val_mae: 55.6759\n",
      "Epoch 21/50\n",
      "34924/34924 [==============================] - 1s 31us/sample - loss: 5172.8137 - mae: 52.9502 - val_loss: 5493.5865 - val_mae: 55.1783\n",
      "Epoch 22/50\n",
      "34924/34924 [==============================] - 1s 32us/sample - loss: 5099.1359 - mae: 52.4713 - val_loss: 5458.7651 - val_mae: 55.3661\n",
      "Epoch 23/50\n",
      "34924/34924 [==============================] - 1s 31us/sample - loss: 5026.5162 - mae: 52.1239 - val_loss: 5449.3087 - val_mae: 55.3838\n",
      "Epoch 24/50\n",
      "34924/34924 [==============================] - 1s 31us/sample - loss: 4962.7834 - mae: 51.7959 - val_loss: 5346.7068 - val_mae: 54.5998\n",
      "Epoch 25/50\n",
      "34924/34924 [==============================] - 1s 32us/sample - loss: 4893.7047 - mae: 51.3790 - val_loss: 5311.7027 - val_mae: 54.6629\n",
      "Epoch 26/50\n",
      "34924/34924 [==============================] - 1s 32us/sample - loss: 4825.0907 - mae: 51.0394 - val_loss: 5272.0276 - val_mae: 54.3935\n",
      "Epoch 27/50\n",
      "34924/34924 [==============================] - 1s 32us/sample - loss: 4763.4799 - mae: 50.6740 - val_loss: 5242.8685 - val_mae: 54.3402\n",
      "Epoch 28/50\n",
      "34924/34924 [==============================] - 1s 30us/sample - loss: 4696.9222 - mae: 50.2719 - val_loss: 5232.8786 - val_mae: 54.3537\n",
      "Epoch 29/50\n",
      "34924/34924 [==============================] - 1s 30us/sample - loss: 4638.0411 - mae: 50.0111 - val_loss: 5211.6624 - val_mae: 54.2279\n",
      "Epoch 30/50\n",
      "34924/34924 [==============================] - 1s 32us/sample - loss: 4574.4906 - mae: 49.6106 - val_loss: 5146.4890 - val_mae: 53.5761\n",
      "Epoch 31/50\n",
      "34924/34924 [==============================] - 1s 30us/sample - loss: 4518.1400 - mae: 49.3278 - val_loss: 5147.7233 - val_mae: 54.0567\n",
      "Epoch 32/50\n",
      "34924/34924 [==============================] - 1s 32us/sample - loss: 4461.7345 - mae: 48.9630 - val_loss: 5101.0354 - val_mae: 53.7978\n",
      "Epoch 33/50\n",
      "34924/34924 [==============================] - 1s 32us/sample - loss: 4412.3791 - mae: 48.7772 - val_loss: 5243.9931 - val_mae: 54.4349\n",
      "Epoch 34/50\n",
      "34924/34924 [==============================] - 1s 33us/sample - loss: 4351.6859 - mae: 48.4258 - val_loss: 5021.4999 - val_mae: 53.1262\n",
      "Epoch 35/50\n",
      "34924/34924 [==============================] - 1s 34us/sample - loss: 4308.0357 - mae: 48.2002 - val_loss: 5059.7524 - val_mae: 53.2159\n",
      "Epoch 36/50\n",
      "34924/34924 [==============================] - 1s 32us/sample - loss: 4257.7913 - mae: 47.8827 - val_loss: 5156.2153 - val_mae: 54.2248\n",
      "Epoch 37/50\n",
      "34924/34924 [==============================] - 1s 34us/sample - loss: 4219.5626 - mae: 47.7420 - val_loss: 4992.8620 - val_mae: 53.1054\n",
      "Epoch 38/50\n",
      "34924/34924 [==============================] - 1s 34us/sample - loss: 4165.2969 - mae: 47.3886 - val_loss: 4947.1903 - val_mae: 52.9766\n",
      "Epoch 39/50\n",
      "34924/34924 [==============================] - 1s 32us/sample - loss: 4105.6657 - mae: 47.0467 - val_loss: 4950.5417 - val_mae: 52.7432\n",
      "Epoch 40/50\n",
      "34924/34924 [==============================] - 1s 30us/sample - loss: 4064.6697 - mae: 46.8488 - val_loss: 4957.2870 - val_mae: 52.8395\n",
      "Epoch 41/50\n",
      "34924/34924 [==============================] - 1s 31us/sample - loss: 4024.2759 - mae: 46.5796 - val_loss: 4881.5853 - val_mae: 52.4168\n",
      "Epoch 42/50\n",
      "34924/34924 [==============================] - 1s 31us/sample - loss: 3988.3406 - mae: 46.3988 - val_loss: 4853.6571 - val_mae: 52.3558\n",
      "Epoch 43/50\n",
      "34924/34924 [==============================] - 1s 29us/sample - loss: 3932.7372 - mae: 46.0548 - val_loss: 4858.2602 - val_mae: 52.3239\n",
      "Epoch 44/50\n",
      "34924/34924 [==============================] - 1s 30us/sample - loss: 3907.4803 - mae: 45.8941 - val_loss: 4864.3289 - val_mae: 52.5858\n",
      "Epoch 45/50\n",
      "34924/34924 [==============================] - 1s 31us/sample - loss: 3862.4976 - mae: 45.6987 - val_loss: 4838.5701 - val_mae: 52.2560\n",
      "Epoch 46/50\n",
      "34924/34924 [==============================] - 1s 29us/sample - loss: 3816.7723 - mae: 45.4355 - val_loss: 4807.8135 - val_mae: 52.0811\n",
      "Epoch 47/50\n",
      "34924/34924 [==============================] - 1s 29us/sample - loss: 3774.9217 - mae: 45.1706 - val_loss: 4809.7801 - val_mae: 52.1110\n",
      "Epoch 48/50\n",
      "34924/34924 [==============================] - 1s 32us/sample - loss: 3741.9002 - mae: 44.9994 - val_loss: 4916.2670 - val_mae: 53.1307\n",
      "Epoch 49/50\n",
      "34924/34924 [==============================] - 1s 31us/sample - loss: 3705.6976 - mae: 44.7787 - val_loss: 4772.8295 - val_mae: 51.8720\n",
      "Epoch 50/50\n",
      "34924/34924 [==============================] - 1s 30us/sample - loss: 3676.7014 - mae: 44.5808 - val_loss: 4748.0716 - val_mae: 51.8269\n"
     ]
    }
   ],
   "source": [
    "model.compile(optimizer='adam', loss='mse', metrics=['mae'])\n",
    "history = model.fit(train_data, train_trg, batch_size=BATCH_SIZE, epochs=50, validation_data=(test_data, test_trg))"
   ]
  },
  {
   "cell_type": "code",
   "execution_count": 41,
   "metadata": {},
   "outputs": [
    {
     "data": {
      "text/plain": [
       "dict_keys(['loss', 'mae', 'val_loss', 'val_mae'])"
      ]
     },
     "execution_count": 41,
     "metadata": {},
     "output_type": "execute_result"
    }
   ],
   "source": [
    "history.history.keys()"
   ]
  },
  {
   "cell_type": "code",
   "execution_count": 42,
   "metadata": {},
   "outputs": [
    {
     "data": {
      "text/plain": [
       "<matplotlib.legend.Legend at 0x1fef644fdd8>"
      ]
     },
     "execution_count": 42,
     "metadata": {},
     "output_type": "execute_result"
    },
    {
     "data": {
      "image/png": "[encoded data removed]",
      "text/plain": [
       "<Figure size 432x288 with 1 Axes>"
      ]
     },
     "metadata": {
      "needs_background": "light"
     },
     "output_type": "display_data"
    }
   ],
   "source": [
    "plt.plot(history.epoch, history.history.get('mae'), c='r', label='mae')\n",
    "plt.plot(history.epoch, history.history.get('val_mae'), c='g', label='val_mae')\n",
    "plt.legend()"
   ]
  },
  {
   "cell_type": "code",
   "execution_count": 43,
   "metadata": {},
   "outputs": [],
   "source": [
    "# LSTM model"
   ]
  },
  {
   "cell_type": "code",
   "execution_count": 44,
   "metadata": {},
   "outputs": [],
   "source": [
    "# model = keras.Sequential()\n",
    "# model.add(layers.LSTM(32, input_shape=(120, 11)))\n",
    "# model.add(layers.Dense(1))"
   ]
  },
  {
   "cell_type": "code",
   "execution_count": 45,
   "metadata": {},
   "outputs": [],
   "source": [
    "# model.compile(optimizer='adam', loss='mse', metrics=['mae'])\n",
    "# history = model.fit(train_data, train_trg, batch_size=BATCH_SIZE, epochs=50, validation_data=(test_data, test_trg))"
   ]
  },
  {
   "cell_type": "code",
   "execution_count": 46,
   "metadata": {},
   "outputs": [],
   "source": [
    "# plt.plot(history.epoch, history.history.get('mae'), c='r', label='mae')\n",
    "# plt.plot(history.epoch, history.history.get('val_mae'), c='g', label='val_mae')\n",
    "# plt.legend()"
   ]
  },
  {
   "cell_type": "code",
   "execution_count": 47,
   "metadata": {},
   "outputs": [],
   "source": [
    "# double LSTM layer and optimize"
   ]
  },
  {
   "cell_type": "code",
   "execution_count": 48,
   "metadata": {},
   "outputs": [],
   "source": [
    "model = keras.Sequential()\n",
    "model.add(layers.LSTM(32, input_shape=(120, 11), return_sequences=True))\n",
    "model.add(layers.LSTM(32, return_sequences=True))\n",
    "model.add(layers.LSTM(32))\n",
    "model.add(layers.Dense(1))"
   ]
  },
  {
   "cell_type": "code",
   "execution_count": 49,
   "metadata": {},
   "outputs": [],
   "source": [
    "lr_decay = keras.callbacks.ReduceLROnPlateau('val_loss', patience=3, factor=0.5, min_lr=0.00001)"
   ]
  },
  {
   "cell_type": "code",
   "execution_count": 50,
   "metadata": {},
   "outputs": [
    {
     "name": "stdout",
     "output_type": "stream",
     "text": [
      "Model: \"sequential_2\"\n",
      "_________________________________________________________________\n",
      "Layer (type)                 Output Shape              Param #   \n",
      "=================================================================\n",
      "lstm_1 (LSTM)                (None, 120, 32)           5632      \n",
      "_________________________________________________________________\n",
      "lstm_2 (LSTM)                (None, 120, 32)           8320      \n",
      "_________________________________________________________________\n",
      "lstm_3 (LSTM)                (None, 32)                8320      \n",
      "_________________________________________________________________\n",
      "dense_3 (Dense)              (None, 1)                 33        \n",
      "=================================================================\n",
      "Total params: 22,305\n",
      "Trainable params: 22,305\n",
      "Non-trainable params: 0\n",
      "_________________________________________________________________\n"
     ]
    }
   ],
   "source": [
    "model.summary()"
   ]
  },
  {
   "cell_type": "code",
   "execution_count": 51,
   "metadata": {},
   "outputs": [
    {
     "name": "stdout",
     "output_type": "stream",
     "text": [
      "Train on 34924 samples, validate on 8732 samples\n",
      "Epoch 1/100\n",
      "34924/34924 [==============================] - 12s 350us/sample - loss: 16255.8949 - mae: 88.5855 - val_loss: 14245.1485 - val_mae: 80.9154\n",
      "Epoch 2/100\n",
      "34924/34924 [==============================] - 7s 210us/sample - loss: 14581.0799 - mae: 80.8273 - val_loss: 12959.8326 - val_mae: 75.4674\n",
      "Epoch 3/100\n",
      "34924/34924 [==============================] - 6s 185us/sample - loss: 13367.7686 - mae: 76.1867 - val_loss: 11898.8637 - val_mae: 71.5215\n",
      "Epoch 4/100\n",
      "34924/34924 [==============================] - 6s 182us/sample - loss: 12353.6272 - mae: 72.7231 - val_loss: 11015.0825 - val_mae: 68.5585\n",
      "Epoch 5/100\n",
      "34924/34924 [==============================] - 6s 181us/sample - loss: 11506.5885 - mae: 70.0804 - val_loss: 10284.6610 - val_mae: 66.4445\n",
      "Epoch 6/100\n",
      "34924/34924 [==============================] - 6s 179us/sample - loss: 10805.1667 - mae: 68.2316 - val_loss: 9686.4524 - val_mae: 65.0130\n",
      "Epoch 7/100\n",
      "34924/34924 [==============================] - 6s 182us/sample - loss: 10230.5114 - mae: 66.9390 - val_loss: 9205.4666 - val_mae: 64.1090\n",
      "Epoch 8/100\n",
      "34924/34924 [==============================] - 6s 183us/sample - loss: 9767.8310 - mae: 66.1575 - val_loss: 8825.6653 - val_mae: 63.6468\n",
      "Epoch 9/100\n",
      "34924/34924 [==============================] - 6s 180us/sample - loss: 9402.2373 - mae: 65.7225 - val_loss: 8534.3430 - val_mae: 63.5174\n",
      "Epoch 10/100\n",
      "34924/34924 [==============================] - 6s 185us/sample - loss: 9119.2930 - mae: 65.6089 - val_loss: 8316.4643 - val_mae: 63.6501\n",
      "Epoch 11/100\n",
      "34924/34924 [==============================] - 6s 182us/sample - loss: 8907.0544 - mae: 65.7459 - val_loss: 8160.9862 - val_mae: 63.9695\n",
      "Epoch 12/100\n",
      "34924/34924 [==============================] - 7s 194us/sample - loss: 8753.6045 - mae: 66.0518 - val_loss: 8053.9194 - val_mae: 64.4259\n",
      "Epoch 13/100\n",
      "34924/34924 [==============================] - 7s 193us/sample - loss: 8647.1268 - mae: 66.4637 - val_loss: 7986.3491 - val_mae: 64.9262\n",
      "Epoch 14/100\n",
      "34924/34924 [==============================] - 7s 186us/sample - loss: 8576.5923 - mae: 66.8833 - val_loss: 7946.8888 - val_mae: 65.4354\n",
      "Epoch 15/100\n",
      "34924/34924 [==============================] - 7s 189us/sample - loss: 8532.9186 - mae: 67.3220 - val_loss: 7927.5211 - val_mae: 65.8998\n",
      "Epoch 16/100\n",
      "34924/34924 [==============================] - 7s 192us/sample - loss: 8507.6512 - mae: 67.7388 - val_loss: 7919.4963 - val_mae: 66.3175\n",
      "Epoch 17/100\n",
      "34924/34924 [==============================] - 7s 192us/sample - loss: 8494.3884 - mae: 68.0682 - val_loss: 7918.0728 - val_mae: 66.6472\n",
      "Epoch 18/100\n",
      "34924/34924 [==============================] - 7s 188us/sample - loss: 8487.8669 - mae: 68.2957 - val_loss: 7919.3143 - val_mae: 66.8804\n",
      "Epoch 19/100\n",
      "34924/34924 [==============================] - 7s 196us/sample - loss: 8484.9474 - mae: 68.5181 - val_loss: 7921.5914 - val_mae: 67.0712\n",
      "Epoch 20/100\n",
      "34924/34924 [==============================] - 7s 195us/sample - loss: 8156.5964 - mae: 64.9686 - val_loss: 7177.3775 - val_mae: 59.8499\n",
      "Epoch 21/100\n",
      "34924/34924 [==============================] - 7s 192us/sample - loss: 7518.8905 - mae: 60.1119 - val_loss: 6834.8993 - val_mae: 58.2689\n",
      "Epoch 22/100\n",
      "34924/34924 [==============================] - 7s 193us/sample - loss: 7178.1183 - mae: 58.5152 - val_loss: 6608.7855 - val_mae: 56.9028\n",
      "Epoch 23/100\n",
      "34924/34924 [==============================] - 7s 188us/sample - loss: 6905.3475 - mae: 57.2296 - val_loss: 6394.2867 - val_mae: 56.1385\n",
      "Epoch 24/100\n",
      "34924/34924 [==============================] - 7s 191us/sample - loss: 6660.7711 - mae: 56.0334 - val_loss: 6151.3707 - val_mae: 54.6847\n",
      "Epoch 25/100\n",
      "34924/34924 [==============================] - 7s 193us/sample - loss: 6465.1860 - mae: 55.1890 - val_loss: 6075.7152 - val_mae: 54.3094\n",
      "Epoch 26/100\n",
      "34924/34924 [==============================] - 7s 201us/sample - loss: 6292.9008 - mae: 54.2869 - val_loss: 5854.1007 - val_mae: 53.1044\n",
      "Epoch 27/100\n",
      "34924/34924 [==============================] - 7s 203us/sample - loss: 6258.3729 - mae: 54.7136 - val_loss: 5829.5244 - val_mae: 53.4053\n",
      "Epoch 28/100\n",
      "34924/34924 [==============================] - 7s 209us/sample - loss: 6209.0479 - mae: 54.5134 - val_loss: 5981.6061 - val_mae: 54.5736\n",
      "Epoch 29/100\n",
      "34924/34924 [==============================] - 6s 186us/sample - loss: 6071.0908 - mae: 53.8128 - val_loss: 5765.2719 - val_mae: 53.4192\n",
      "Epoch 30/100\n",
      "34924/34924 [==============================] - 7s 188us/sample - loss: 5979.5537 - mae: 53.2705 - val_loss: 5786.2885 - val_mae: 53.5501\n",
      "Epoch 31/100\n",
      "34924/34924 [==============================] - 6s 186us/sample - loss: 5899.9777 - mae: 52.9843 - val_loss: 5708.8894 - val_mae: 53.3980\n",
      "Epoch 32/100\n",
      "34924/34924 [==============================] - 6s 184us/sample - loss: 5757.6715 - mae: 52.0644 - val_loss: 5465.4509 - val_mae: 51.4981\n",
      "Epoch 33/100\n",
      "34924/34924 [==============================] - 7s 189us/sample - loss: 5608.8361 - mae: 51.0682 - val_loss: 5315.8817 - val_mae: 50.9464\n",
      "Epoch 34/100\n",
      "34924/34924 [==============================] - 6s 184us/sample - loss: 5790.7711 - mae: 52.3613 - val_loss: 5577.0491 - val_mae: 52.5531\n",
      "Epoch 35/100\n",
      "34924/34924 [==============================] - 6s 185us/sample - loss: 5631.4221 - mae: 51.3132 - val_loss: 5281.5108 - val_mae: 50.3983\n",
      "Epoch 36/100\n",
      "34924/34924 [==============================] - 6s 185us/sample - loss: 5411.6430 - mae: 50.0770 - val_loss: 5162.0395 - val_mae: 50.3453\n",
      "Epoch 37/100\n",
      "34924/34924 [==============================] - 7s 189us/sample - loss: 5272.0469 - mae: 49.3590 - val_loss: 5038.4631 - val_mae: 49.3516\n",
      "Epoch 38/100\n",
      "34924/34924 [==============================] - 7s 186us/sample - loss: 5292.3818 - mae: 49.4267 - val_loss: 5224.2653 - val_mae: 50.5458\n",
      "Epoch 39/100\n",
      "34924/34924 [==============================] - 7s 189us/sample - loss: 5165.2998 - mae: 48.7229 - val_loss: 5163.7973 - val_mae: 50.8229\n",
      "Epoch 40/100\n",
      "34924/34924 [==============================] - 7s 187us/sample - loss: 5200.5773 - mae: 49.1359 - val_loss: 4853.4990 - val_mae: 47.4012\n",
      "Epoch 41/100\n",
      "34924/34924 [==============================] - 7s 187us/sample - loss: 4927.8832 - mae: 47.0661 - val_loss: 4886.1574 - val_mae: 47.8440\n",
      "Epoch 42/100\n",
      "34924/34924 [==============================] - 7s 189us/sample - loss: 4800.0943 - mae: 46.3072 - val_loss: 4563.1558 - val_mae: 46.0322\n",
      "Epoch 43/100\n",
      "34924/34924 [==============================] - 7s 189us/sample - loss: 4672.0917 - mae: 45.6499 - val_loss: 4711.8981 - val_mae: 47.5084\n",
      "Epoch 44/100\n",
      "34924/34924 [==============================] - 7s 195us/sample - loss: 5729.2136 - mae: 52.5237 - val_loss: 5222.4327 - val_mae: 49.8948\n",
      "Epoch 45/100\n",
      "34924/34924 [==============================] - 7s 192us/sample - loss: 5120.5954 - mae: 48.8421 - val_loss: 4869.9915 - val_mae: 48.5926\n",
      "Epoch 46/100\n",
      "34924/34924 [==============================] - 7s 191us/sample - loss: 4706.4743 - mae: 46.3790 - val_loss: 4589.4075 - val_mae: 46.6710\n",
      "Epoch 47/100\n",
      "34924/34924 [==============================] - 7s 189us/sample - loss: 4731.6035 - mae: 46.5663 - val_loss: 4469.6735 - val_mae: 46.1775\n",
      "Epoch 48/100\n",
      "34924/34924 [==============================] - 7s 187us/sample - loss: 4661.1233 - mae: 45.8214 - val_loss: 4506.5114 - val_mae: 45.5975\n",
      "Epoch 49/100\n",
      "34924/34924 [==============================] - 7s 191us/sample - loss: 4363.5910 - mae: 44.1232 - val_loss: 4287.5208 - val_mae: 44.3598\n",
      "Epoch 50/100\n",
      "34924/34924 [==============================] - 7s 191us/sample - loss: 4210.0681 - mae: 43.4602 - val_loss: 4275.1244 - val_mae: 44.6676\n",
      "Epoch 51/100\n",
      "34924/34924 [==============================] - 7s 187us/sample - loss: 4185.7236 - mae: 43.3248 - val_loss: 4275.2588 - val_mae: 44.7508\n",
      "Epoch 52/100\n",
      "34924/34924 [==============================] - 7s 188us/sample - loss: 3944.9255 - mae: 42.1200 - val_loss: 3917.8455 - val_mae: 42.5551\n",
      "Epoch 53/100\n",
      "34924/34924 [==============================] - 7s 193us/sample - loss: 3819.6107 - mae: 41.2365 - val_loss: 3788.5816 - val_mae: 42.0192\n",
      "Epoch 54/100\n",
      "34924/34924 [==============================] - 7s 191us/sample - loss: 3905.1472 - mae: 41.4949 - val_loss: 4930.7408 - val_mae: 49.1921\n",
      "Epoch 55/100\n"
     ]
    },
    {
     "name": "stdout",
     "output_type": "stream",
     "text": [
      "34924/34924 [==============================] - 7s 190us/sample - loss: 4375.7405 - mae: 44.3677 - val_loss: 4241.9931 - val_mae: 45.1916\n",
      "Epoch 56/100\n",
      "34924/34924 [==============================] - 7s 188us/sample - loss: 4018.1933 - mae: 42.5702 - val_loss: 3897.9533 - val_mae: 42.7898\n",
      "Epoch 57/100\n",
      "34924/34924 [==============================] - 7s 191us/sample - loss: 3788.3455 - mae: 41.1562 - val_loss: 3904.8714 - val_mae: 42.4255\n",
      "Epoch 58/100\n",
      "34924/34924 [==============================] - 7s 188us/sample - loss: 3705.9874 - mae: 40.6489 - val_loss: 3861.8678 - val_mae: 42.2620\n",
      "Epoch 59/100\n",
      "34924/34924 [==============================] - 7s 189us/sample - loss: 3580.3901 - mae: 39.8731 - val_loss: 3631.1431 - val_mae: 40.5847\n",
      "Epoch 60/100\n",
      "34924/34924 [==============================] - 7s 188us/sample - loss: 3459.5918 - mae: 39.0658 - val_loss: 3549.8544 - val_mae: 40.3048\n",
      "Epoch 61/100\n",
      "34924/34924 [==============================] - 7s 193us/sample - loss: 3382.0293 - mae: 38.5930 - val_loss: 3634.4206 - val_mae: 41.0040\n",
      "Epoch 62/100\n",
      "34924/34924 [==============================] - 7s 193us/sample - loss: 3426.4002 - mae: 38.7713 - val_loss: 3687.8518 - val_mae: 41.2356\n",
      "Epoch 63/100\n",
      "34924/34924 [==============================] - 7s 192us/sample - loss: 3355.6177 - mae: 38.2706 - val_loss: 3402.0771 - val_mae: 39.4268\n",
      "Epoch 64/100\n",
      "34924/34924 [==============================] - 7s 194us/sample - loss: 3229.3959 - mae: 37.5162 - val_loss: 3367.3052 - val_mae: 39.0772\n",
      "Epoch 65/100\n",
      "34924/34924 [==============================] - 7s 195us/sample - loss: 3167.7687 - mae: 37.1084 - val_loss: 3289.8771 - val_mae: 38.8880\n",
      "Epoch 66/100\n",
      "34924/34924 [==============================] - 7s 199us/sample - loss: 3225.3364 - mae: 37.4172 - val_loss: 3387.0964 - val_mae: 39.1009\n",
      "Epoch 67/100\n",
      "34924/34924 [==============================] - 7s 195us/sample - loss: 3156.3653 - mae: 36.9840 - val_loss: 3219.2868 - val_mae: 38.2209\n",
      "Epoch 68/100\n",
      "34924/34924 [==============================] - 7s 201us/sample - loss: 3004.8348 - mae: 36.0869 - val_loss: 3134.5870 - val_mae: 37.6640\n",
      "Epoch 69/100\n",
      "34924/34924 [==============================] - 7s 201us/sample - loss: 2954.0814 - mae: 35.7646 - val_loss: 3151.7252 - val_mae: 37.8208\n",
      "Epoch 70/100\n",
      "34924/34924 [==============================] - 7s 201us/sample - loss: 3169.7890 - mae: 37.2023 - val_loss: 3174.3544 - val_mae: 38.2201\n",
      "Epoch 71/100\n",
      "34924/34924 [==============================] - 7s 196us/sample - loss: 3004.3522 - mae: 36.2783 - val_loss: 3226.7246 - val_mae: 38.0099\n",
      "Epoch 72/100\n",
      "34924/34924 [==============================] - 7s 205us/sample - loss: 2983.7457 - mae: 36.0019 - val_loss: 3116.2337 - val_mae: 37.7050\n",
      "Epoch 73/100\n",
      "34924/34924 [==============================] - 7s 213us/sample - loss: 2868.0741 - mae: 35.2493 - val_loss: 3002.4526 - val_mae: 36.9876\n",
      "Epoch 74/100\n",
      "34924/34924 [==============================] - 7s 200us/sample - loss: 2805.8873 - mae: 34.8097 - val_loss: 2995.8541 - val_mae: 37.0810\n",
      "Epoch 75/100\n",
      "34924/34924 [==============================] - 7s 210us/sample - loss: 2789.5738 - mae: 34.7264 - val_loss: 2933.6620 - val_mae: 36.6937\n",
      "Epoch 76/100\n",
      "34924/34924 [==============================] - 7s 211us/sample - loss: 2773.3675 - mae: 34.6835 - val_loss: 2950.2905 - val_mae: 36.6313\n",
      "Epoch 77/100\n",
      "34924/34924 [==============================] - 8s 224us/sample - loss: 2735.2747 - mae: 34.2990 - val_loss: 2904.5378 - val_mae: 36.1437\n",
      "Epoch 78/100\n",
      "34924/34924 [==============================] - 8s 223us/sample - loss: 2712.5371 - mae: 34.1158 - val_loss: 2904.6126 - val_mae: 36.1537\n",
      "Epoch 79/100\n",
      "34924/34924 [==============================] - 8s 220us/sample - loss: 2780.8558 - mae: 34.7753 - val_loss: 2936.8421 - val_mae: 36.5950\n",
      "Epoch 80/100\n",
      "34924/34924 [==============================] - 7s 207us/sample - loss: 2723.0006 - mae: 34.2320 - val_loss: 2876.9443 - val_mae: 36.0454\n",
      "Epoch 81/100\n",
      "34924/34924 [==============================] - 7s 210us/sample - loss: 2651.9298 - mae: 33.6956 - val_loss: 2818.2571 - val_mae: 35.5693\n",
      "Epoch 82/100\n",
      "34924/34924 [==============================] - 7s 194us/sample - loss: 2621.8483 - mae: 33.4317 - val_loss: 2831.1593 - val_mae: 35.8173\n",
      "Epoch 83/100\n",
      "34924/34924 [==============================] - 7s 191us/sample - loss: 2611.9891 - mae: 33.3733 - val_loss: 2807.1679 - val_mae: 35.5067\n",
      "Epoch 84/100\n",
      "34924/34924 [==============================] - 7s 189us/sample - loss: 2594.6252 - mae: 33.2003 - val_loss: 2790.8956 - val_mae: 35.3333\n",
      "Epoch 85/100\n",
      "34924/34924 [==============================] - 7s 188us/sample - loss: 2585.5385 - mae: 33.0953 - val_loss: 2764.5989 - val_mae: 35.1574\n",
      "Epoch 86/100\n",
      "34924/34924 [==============================] - 7s 193us/sample - loss: 2579.6691 - mae: 33.1340 - val_loss: 2783.4097 - val_mae: 35.3588\n",
      "Epoch 87/100\n",
      "34924/34924 [==============================] - 7s 190us/sample - loss: 2610.2453 - mae: 33.4604 - val_loss: 2826.7831 - val_mae: 35.8304\n",
      "Epoch 88/100\n",
      "34924/34924 [==============================] - 7s 195us/sample - loss: 2568.7188 - mae: 33.0697 - val_loss: 2799.2602 - val_mae: 35.5358\n",
      "Epoch 89/100\n",
      "34924/34924 [==============================] - 7s 186us/sample - loss: 2519.8264 - mae: 32.6602 - val_loss: 2747.2398 - val_mae: 35.1447\n",
      "Epoch 90/100\n",
      "34924/34924 [==============================] - 7s 187us/sample - loss: 2497.6288 - mae: 32.5365 - val_loss: 2730.0735 - val_mae: 34.9747\n",
      "Epoch 91/100\n",
      "34924/34924 [==============================] - 7s 187us/sample - loss: 2485.1316 - mae: 32.4147 - val_loss: 2696.3132 - val_mae: 34.8036\n",
      "Epoch 92/100\n",
      "34924/34924 [==============================] - 7s 191us/sample - loss: 2462.8771 - mae: 32.2925 - val_loss: 2681.8376 - val_mae: 34.6288\n",
      "Epoch 93/100\n",
      "34924/34924 [==============================] - 7s 193us/sample - loss: 2449.2197 - mae: 32.1564 - val_loss: 2677.7937 - val_mae: 34.5646\n",
      "Epoch 94/100\n",
      "34924/34924 [==============================] - 7s 189us/sample - loss: 2442.1993 - mae: 32.0846 - val_loss: 2663.6547 - val_mae: 34.6010\n",
      "Epoch 95/100\n",
      "34924/34924 [==============================] - 7s 188us/sample - loss: 2427.8006 - mae: 31.9753 - val_loss: 2647.2647 - val_mae: 34.3891\n",
      "Epoch 96/100\n",
      "34924/34924 [==============================] - 7s 189us/sample - loss: 2419.3065 - mae: 31.8772 - val_loss: 2647.1306 - val_mae: 34.3143\n",
      "Epoch 97/100\n",
      "34924/34924 [==============================] - 7s 188us/sample - loss: 2412.8447 - mae: 31.8363 - val_loss: 2648.4859 - val_mae: 34.3132\n",
      "Epoch 98/100\n",
      "34924/34924 [==============================] - 7s 190us/sample - loss: 2406.3199 - mae: 31.7930 - val_loss: 2670.8860 - val_mae: 34.5707\n",
      "Epoch 99/100\n",
      "34924/34924 [==============================] - 7s 188us/sample - loss: 2428.7151 - mae: 31.9730 - val_loss: 2645.9154 - val_mae: 34.2311\n",
      "Epoch 100/100\n",
      "34924/34924 [==============================] - 7s 187us/sample - loss: 2396.3150 - mae: 31.7178 - val_loss: 2634.6996 - val_mae: 34.3082\n"
     ]
    }
   ],
   "source": [
    "model.compile(optimizer='adam', loss='mse', metrics=['mae'])\n",
    "history = model.fit(train_data, train_trg, batch_size=BATCH_SIZE, epochs=100, callbacks=[lr_decay], validation_data=(test_data, test_trg))"
   ]
  },
  {
   "cell_type": "code",
   "execution_count": 53,
   "metadata": {},
   "outputs": [
    {
     "data": {
      "text/plain": [
       "<matplotlib.legend.Legend at 0x1ff4e0475c0>"
      ]
     },
     "execution_count": 53,
     "metadata": {},
     "output_type": "execute_result"
    },
    {
     "data": {
      "image/png": "[encoded data removed]",
      "text/plain": [
       "<Figure size 432x288 with 1 Axes>"
      ]
     },
     "metadata": {
      "needs_background": "light"
     },
     "output_type": "display_data"
    }
   ],
   "source": [
    "plt.plot(history.epoch, history.history.get('mae'), c='r', label='mae')\n",
    "plt.plot(history.epoch, history.history.get('val_mae'), c='g', label='val_mae')\n",
    "plt.legend()"
   ]
  },
  {
   "cell_type": "code",
   "execution_count": null,
   "metadata": {},
   "outputs": [],
   "source": []
  }
 ],
 "metadata": {
  "kernelspec": {
   "display_name": "Python 3",
   "language": "python",
   "name": "python3"
  },
  "language_info": {
   "codemirror_mode": {
    "name": "ipython",
    "version": 3
   },
   "file_extension": ".py",
   "mimetype": "text/x-python",
   "name": "python",
   "nbconvert_exporter": "python",
   "pygments_lexer": "ipython3",
   "version": "3.7.3"
  }
 },
 "nbformat": 4,
 "nbformat_minor": 2
}
