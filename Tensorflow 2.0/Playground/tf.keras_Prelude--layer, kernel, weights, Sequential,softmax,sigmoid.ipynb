{
 "cells": [
  {
   "cell_type": "code",
   "execution_count": 1,
   "metadata": {},
   "outputs": [],
   "source": [
    "import tensorflow as tf \n",
    "from tensorflow import keras"
   ]
  },
  {
   "cell_type": "code",
   "execution_count": 2,
   "metadata": {},
   "outputs": [],
   "source": [
    "x = tf.random.normal([4, 788])"
   ]
  },
  {
   "cell_type": "code",
   "execution_count": 3,
   "metadata": {},
   "outputs": [],
   "source": [
    "net = tf.keras.layers.Dense(512)\n",
    "out = net(x)  "
   ]
  },
  {
   "cell_type": "code",
   "execution_count": 4,
   "metadata": {},
   "outputs": [
    {
     "data": {
      "text/plain": [
       "TensorShape([4, 512])"
      ]
     },
     "execution_count": 4,
     "metadata": {},
     "output_type": "execute_result"
    }
   ],
   "source": [
    "out.shape"
   ]
  },
  {
   "cell_type": "code",
   "execution_count": 5,
   "metadata": {},
   "outputs": [
    {
     "data": {
      "text/plain": [
       "(TensorShape([788, 512]), TensorShape([512]))"
      ]
     },
     "execution_count": 5,
     "metadata": {},
     "output_type": "execute_result"
    }
   ],
   "source": [
    "# shape of weights, shape of bias\n",
    "net.kernel.shape, net.bias.shape"
   ]
  },
  {
   "cell_type": "code",
   "execution_count": 6,
   "metadata": {},
   "outputs": [],
   "source": [
    "net = tf.keras.layers.Dense(10)"
   ]
  },
  {
   "cell_type": "code",
   "execution_count": 7,
   "metadata": {},
   "outputs": [],
   "source": [
    "# below will raise error, Dense object has no attribute 'bias'\n",
    "# net.bias"
   ]
  },
  {
   "cell_type": "code",
   "execution_count": 8,
   "metadata": {},
   "outputs": [
    {
     "data": {
      "text/plain": [
       "([], [])"
      ]
     },
     "execution_count": 8,
     "metadata": {},
     "output_type": "execute_result"
    }
   ],
   "source": [
    "# will be empty before given \n",
    "net.get_weights(), net.weights"
   ]
  },
  {
   "cell_type": "code",
   "execution_count": 9,
   "metadata": {},
   "outputs": [],
   "source": [
    "net.build(input_shape=(None, 4))"
   ]
  },
  {
   "cell_type": "code",
   "execution_count": 10,
   "metadata": {},
   "outputs": [
    {
     "data": {
      "text/plain": [
       "[array([[ 0.53446555,  0.22008818,  0.5262387 , -0.49800426,  0.4289534 ,\n",
       "         -0.16301975,  0.63278663,  0.06394708,  0.22146088, -0.19235292],\n",
       "        [ 0.5756086 , -0.5126367 ,  0.17382014,  0.63976204,  0.55513   ,\n",
       "          0.31101757,  0.0278036 ,  0.3967663 , -0.44127184,  0.61096   ],\n",
       "        [-0.19367698,  0.48155951, -0.31084415,  0.53555167, -0.45724416,\n",
       "         -0.5796112 ,  0.34066164, -0.06689358, -0.31299776, -0.1051625 ],\n",
       "        [ 0.6176175 , -0.42139488,  0.45368803,  0.4942336 ,  0.46620226,\n",
       "         -0.18579423,  0.48498058,  0.50759244, -0.37934586,  0.14635289]],\n",
       "       dtype=float32),\n",
       " array([0., 0., 0., 0., 0., 0., 0., 0., 0., 0.], dtype=float32)]"
      ]
     },
     "execution_count": 10,
     "metadata": {},
     "output_type": "execute_result"
    }
   ],
   "source": [
    "net.get_weights()"
   ]
  },
  {
   "cell_type": "code",
   "execution_count": 11,
   "metadata": {},
   "outputs": [
    {
     "data": {
      "text/plain": [
       "<tf.Variable 'kernel:0' shape=(4, 10) dtype=float32, numpy=\n",
       "array([[ 0.53446555,  0.22008818,  0.5262387 , -0.49800426,  0.4289534 ,\n",
       "        -0.16301975,  0.63278663,  0.06394708,  0.22146088, -0.19235292],\n",
       "       [ 0.5756086 , -0.5126367 ,  0.17382014,  0.63976204,  0.55513   ,\n",
       "         0.31101757,  0.0278036 ,  0.3967663 , -0.44127184,  0.61096   ],\n",
       "       [-0.19367698,  0.48155951, -0.31084415,  0.53555167, -0.45724416,\n",
       "        -0.5796112 ,  0.34066164, -0.06689358, -0.31299776, -0.1051625 ],\n",
       "       [ 0.6176175 , -0.42139488,  0.45368803,  0.4942336 ,  0.46620226,\n",
       "        -0.18579423,  0.48498058,  0.50759244, -0.37934586,  0.14635289]],\n",
       "      dtype=float32)>"
      ]
     },
     "execution_count": 11,
     "metadata": {},
     "output_type": "execute_result"
    }
   ],
   "source": [
    "net.kernel"
   ]
  },
  {
   "cell_type": "code",
   "execution_count": 12,
   "metadata": {},
   "outputs": [],
   "source": [
    "############################################# Sequential ##############################################################################"
   ]
  },
  {
   "cell_type": "code",
   "execution_count": 13,
   "metadata": {},
   "outputs": [],
   "source": [
    "x = tf.random.normal([2, 3])"
   ]
  },
  {
   "cell_type": "code",
   "execution_count": 15,
   "metadata": {},
   "outputs": [
    {
     "name": "stdout",
     "output_type": "stream",
     "text": [
      "Model: \"sequential\"\n",
      "_________________________________________________________________\n",
      "Layer (type)                 Output Shape              Param #   \n",
      "=================================================================\n",
      "dense_2 (Dense)              multiple                  8         \n",
      "_________________________________________________________________\n",
      "dense_3 (Dense)              multiple                  6         \n",
      "_________________________________________________________________\n",
      "dense_4 (Dense)              multiple                  6         \n",
      "=================================================================\n",
      "Total params: 20\n",
      "Trainable params: 20\n",
      "Non-trainable params: 0\n",
      "_________________________________________________________________\n"
     ]
    }
   ],
   "source": [
    "model = keras.Sequential([\n",
    "    keras.layers.Dense(2, activation='relu'), \n",
    "    keras.layers.Dense(2, activation='relu'),\n",
    "    keras.layers.Dense(2)\n",
    "])\n",
    "model.build(input_shape=[None, 3])\n",
    "model.summary()"
   ]
  },
  {
   "cell_type": "code",
   "execution_count": 16,
   "metadata": {},
   "outputs": [
    {
     "name": "stdout",
     "output_type": "stream",
     "text": [
      "dense_2/kernel:0 (3, 2)\n",
      "dense_2/bias:0 (2,)\n",
      "dense_3/kernel:0 (2, 2)\n",
      "dense_3/bias:0 (2,)\n",
      "dense_4/kernel:0 (2, 2)\n",
      "dense_4/bias:0 (2,)\n"
     ]
    }
   ],
   "source": [
    "for p in model.trainable_variables:\n",
    "    print(p.name, p.shape)"
   ]
  },
  {
   "cell_type": "code",
   "execution_count": 19,
   "metadata": {},
   "outputs": [
    {
     "data": {
      "text/plain": [
       "<tf.Tensor: id=168, shape=(5,), dtype=float32, numpy=\n",
       "array([0.11920291, 0.26894143, 0.5       , 0.7310586 , 0.880797  ],\n",
       "      dtype=float32)>"
      ]
     },
     "execution_count": 19,
     "metadata": {},
     "output_type": "execute_result"
    }
   ],
   "source": [
    "# sigmoid and softmax\n",
    "a = tf.linspace(-2., 2, 5)\n",
    "tf.sigmoid(a)"
   ]
  },
  {
   "cell_type": "code",
   "execution_count": 20,
   "metadata": {},
   "outputs": [
    {
     "data": {
      "text/plain": [
       "<tf.Tensor: id=170, shape=(5,), dtype=float32, numpy=\n",
       "array([0.01165623, 0.03168492, 0.08612854, 0.23412167, 0.6364086 ],\n",
       "      dtype=float32)>"
      ]
     },
     "execution_count": 20,
     "metadata": {},
     "output_type": "execute_result"
    }
   ],
   "source": [
    "tf.nn.softmax(a)"
   ]
  },
  {
   "cell_type": "code",
   "execution_count": 21,
   "metadata": {},
   "outputs": [
    {
     "data": {
      "text/plain": [
       "<tf.Tensor: id=181, shape=(1,), dtype=float32, numpy=array([1.], dtype=float32)>"
      ]
     },
     "execution_count": 21,
     "metadata": {},
     "output_type": "execute_result"
    }
   ],
   "source": [
    "# more softmax examples\n",
    "logits = tf.random.uniform([1, 10], minval=-2, maxval=2)\n",
    "# also tf.math.softmax\n",
    "prob = tf.nn.softmax(logits, axis=1)\n",
    "tf.reduce_sum(prob, axis=1)"
   ]
  },
  {
   "cell_type": "code",
   "execution_count": 22,
   "metadata": {},
   "outputs": [],
   "source": [
    "# tanh"
   ]
  },
  {
   "cell_type": "code",
   "execution_count": 27,
   "metadata": {},
   "outputs": [
    {
     "data": {
      "text/plain": [
       "<tf.Tensor: id=196, shape=(4,), dtype=float64, numpy=array([-2., -1.,  0.,  1.])>"
      ]
     },
     "execution_count": 27,
     "metadata": {},
     "output_type": "execute_result"
    }
   ],
   "source": [
    "a = tf.cast(tf.range(-2, 2), dtype=tf.double)\n",
    "a"
   ]
  },
  {
   "cell_type": "code",
   "execution_count": 28,
   "metadata": {},
   "outputs": [
    {
     "data": {
      "text/plain": [
       "<tf.Tensor: id=198, shape=(4,), dtype=float64, numpy=array([-0.96402758, -0.76159416,  0.        ,  0.76159416])>"
      ]
     },
     "execution_count": 28,
     "metadata": {},
     "output_type": "execute_result"
    }
   ],
   "source": [
    "tf.tanh(a)"
   ]
  },
  {
   "cell_type": "code",
   "execution_count": null,
   "metadata": {},
   "outputs": [],
   "source": []
  }
 ],
 "metadata": {
  "kernelspec": {
   "display_name": "Python 3",
   "language": "python",
   "name": "python3"
  },
  "language_info": {
   "codemirror_mode": {
    "name": "ipython",
    "version": 3
   },
   "file_extension": ".py",
   "mimetype": "text/x-python",
   "name": "python",
   "nbconvert_exporter": "python",
   "pygments_lexer": "ipython3",
   "version": "3.7.3"
  }
 },
 "nbformat": 4,
 "nbformat_minor": 2
}
