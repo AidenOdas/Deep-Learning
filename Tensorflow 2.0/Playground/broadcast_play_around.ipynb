{
 "cells": [
  {
   "cell_type": "code",
   "execution_count": 10,
   "metadata": {},
   "outputs": [],
   "source": [
    "import tensorflow as tf\n",
    "import numpy as np"
   ]
  },
  {
   "cell_type": "code",
   "execution_count": 11,
   "metadata": {},
   "outputs": [],
   "source": [
    "# 假设有4个班级，每个班级有32名学生，每名学生上8门课\n",
    "a = tf.ones([4, 32, 8], dtype=tf.float32)"
   ]
  },
  {
   "cell_type": "code",
   "execution_count": 16,
   "metadata": {},
   "outputs": [
    {
     "data": {
      "text/plain": [
       "<tf.Tensor: id=30, shape=(4, 32, 8), dtype=float32, numpy=\n",
       "array([[[6., 6., 6., ..., 6., 6., 6.],\n",
       "        [6., 6., 6., ..., 6., 6., 6.],\n",
       "        [6., 6., 6., ..., 6., 6., 6.],\n",
       "        ...,\n",
       "        [6., 6., 6., ..., 6., 6., 6.],\n",
       "        [6., 6., 6., ..., 6., 6., 6.],\n",
       "        [6., 6., 6., ..., 6., 6., 6.]],\n",
       "\n",
       "       [[6., 6., 6., ..., 6., 6., 6.],\n",
       "        [6., 6., 6., ..., 6., 6., 6.],\n",
       "        [6., 6., 6., ..., 6., 6., 6.],\n",
       "        ...,\n",
       "        [6., 6., 6., ..., 6., 6., 6.],\n",
       "        [6., 6., 6., ..., 6., 6., 6.],\n",
       "        [6., 6., 6., ..., 6., 6., 6.]],\n",
       "\n",
       "       [[6., 6., 6., ..., 6., 6., 6.],\n",
       "        [6., 6., 6., ..., 6., 6., 6.],\n",
       "        [6., 6., 6., ..., 6., 6., 6.],\n",
       "        ...,\n",
       "        [6., 6., 6., ..., 6., 6., 6.],\n",
       "        [6., 6., 6., ..., 6., 6., 6.],\n",
       "        [6., 6., 6., ..., 6., 6., 6.]],\n",
       "\n",
       "       [[6., 6., 6., ..., 6., 6., 6.],\n",
       "        [6., 6., 6., ..., 6., 6., 6.],\n",
       "        [6., 6., 6., ..., 6., 6., 6.],\n",
       "        ...,\n",
       "        [6., 6., 6., ..., 6., 6., 6.],\n",
       "        [6., 6., 6., ..., 6., 6., 6.],\n",
       "        [6., 6., 6., ..., 6., 6., 6.]]], dtype=float32)>"
      ]
     },
     "execution_count": 16,
     "metadata": {},
     "output_type": "execute_result"
    }
   ],
   "source": [
    "a + np.array([5])"
   ]
  },
  {
   "cell_type": "code",
   "execution_count": 17,
   "metadata": {},
   "outputs": [
    {
     "data": {
      "text/plain": [
       "<tf.Tensor: id=33, shape=(4, 32, 8), dtype=float32, numpy=\n",
       "array([[[6., 6., 6., ..., 6., 6., 6.],\n",
       "        [6., 6., 6., ..., 6., 6., 6.],\n",
       "        [6., 6., 6., ..., 6., 6., 6.],\n",
       "        ...,\n",
       "        [6., 6., 6., ..., 6., 6., 6.],\n",
       "        [6., 6., 6., ..., 6., 6., 6.],\n",
       "        [6., 6., 6., ..., 6., 6., 6.]],\n",
       "\n",
       "       [[6., 6., 6., ..., 6., 6., 6.],\n",
       "        [6., 6., 6., ..., 6., 6., 6.],\n",
       "        [6., 6., 6., ..., 6., 6., 6.],\n",
       "        ...,\n",
       "        [6., 6., 6., ..., 6., 6., 6.],\n",
       "        [6., 6., 6., ..., 6., 6., 6.],\n",
       "        [6., 6., 6., ..., 6., 6., 6.]],\n",
       "\n",
       "       [[6., 6., 6., ..., 6., 6., 6.],\n",
       "        [6., 6., 6., ..., 6., 6., 6.],\n",
       "        [6., 6., 6., ..., 6., 6., 6.],\n",
       "        ...,\n",
       "        [6., 6., 6., ..., 6., 6., 6.],\n",
       "        [6., 6., 6., ..., 6., 6., 6.],\n",
       "        [6., 6., 6., ..., 6., 6., 6.]],\n",
       "\n",
       "       [[6., 6., 6., ..., 6., 6., 6.],\n",
       "        [6., 6., 6., ..., 6., 6., 6.],\n",
       "        [6., 6., 6., ..., 6., 6., 6.],\n",
       "        ...,\n",
       "        [6., 6., 6., ..., 6., 6., 6.],\n",
       "        [6., 6., 6., ..., 6., 6., 6.],\n",
       "        [6., 6., 6., ..., 6., 6., 6.]]], dtype=float32)>"
      ]
     },
     "execution_count": 17,
     "metadata": {},
     "output_type": "execute_result"
    }
   ],
   "source": [
    "a + 5"
   ]
  },
  {
   "cell_type": "code",
   "execution_count": 21,
   "metadata": {},
   "outputs": [],
   "source": [
    "a = tf.ones([3, 4])"
   ]
  },
  {
   "cell_type": "code",
   "execution_count": 22,
   "metadata": {},
   "outputs": [],
   "source": [
    "a1 = tf.broadcast_to(a, [2, 3, 4])"
   ]
  },
  {
   "cell_type": "code",
   "execution_count": 23,
   "metadata": {},
   "outputs": [],
   "source": [
    "a2 = tf.expand_dims(a, axis=0)"
   ]
  },
  {
   "cell_type": "code",
   "execution_count": 24,
   "metadata": {},
   "outputs": [
    {
     "data": {
      "text/plain": [
       "TensorShape([1, 3, 4])"
      ]
     },
     "execution_count": 24,
     "metadata": {},
     "output_type": "execute_result"
    }
   ],
   "source": [
    "a2.shape"
   ]
  },
  {
   "cell_type": "code",
   "execution_count": 26,
   "metadata": {},
   "outputs": [],
   "source": [
    "# 这里tile是在某一个维度上进行扩张，并且，如果是1，则表示不扩张，2则表示扩张1次\n",
    "# tile占用内存大一些，所以还是推荐使用broadcast\n",
    "a2 = tf.tile(a2, [2, 1, 1])"
   ]
  },
  {
   "cell_type": "code",
   "execution_count": 27,
   "metadata": {},
   "outputs": [
    {
     "data": {
      "text/plain": [
       "TensorShape([2, 3, 4])"
      ]
     },
     "execution_count": 27,
     "metadata": {},
     "output_type": "execute_result"
    }
   ],
   "source": [
    "a2.shape"
   ]
  },
  {
   "cell_type": "code",
   "execution_count": null,
   "metadata": {},
   "outputs": [],
   "source": []
  }
 ],
 "metadata": {
  "kernelspec": {
   "display_name": "Python 3",
   "language": "python",
   "name": "python3"
  },
  "language_info": {
   "codemirror_mode": {
    "name": "ipython",
    "version": 3
   },
   "file_extension": ".py",
   "mimetype": "text/x-python",
   "name": "python",
   "nbconvert_exporter": "python",
   "pygments_lexer": "ipython3",
   "version": "3.7.3"
  }
 },
 "nbformat": 4,
 "nbformat_minor": 2
}
