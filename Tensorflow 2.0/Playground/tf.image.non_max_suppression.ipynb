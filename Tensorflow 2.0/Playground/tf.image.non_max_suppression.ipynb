{
 "cells": [
  {
   "cell_type": "code",
   "execution_count": 1,
   "metadata": {},
   "outputs": [],
   "source": [
    "import tensorflow as tf"
   ]
  },
  {
   "cell_type": "code",
   "execution_count": 3,
   "metadata": {},
   "outputs": [],
   "source": [
    "# here we have 5 boxes, each box has 4 coordinates\n",
    "boxes = tf.random.uniform([5, 4], minval=0, maxval=10)"
   ]
  },
  {
   "cell_type": "code",
   "execution_count": 4,
   "metadata": {},
   "outputs": [
    {
     "data": {
      "text/plain": [
       "<tf.Tensor: id=13, shape=(5, 4), dtype=float32, numpy=\n",
       "array([[4.3398676 , 7.3400345 , 1.877315  , 0.18413186],\n",
       "       [0.98822236, 7.902124  , 0.8090663 , 1.2118781 ],\n",
       "       [5.9656024 , 9.474609  , 9.505417  , 6.9947553 ],\n",
       "       [4.6755543 , 9.095127  , 1.1614668 , 6.1340427 ],\n",
       "       [1.2248063 , 8.7956295 , 5.155654  , 3.829707  ]], dtype=float32)>"
      ]
     },
     "execution_count": 4,
     "metadata": {},
     "output_type": "execute_result"
    }
   ],
   "source": [
    "boxes"
   ]
  },
  {
   "cell_type": "code",
   "execution_count": 6,
   "metadata": {},
   "outputs": [],
   "source": [
    "# scores for each box\n",
    "scores = tf.random.uniform([5], minval=0, maxval=1)"
   ]
  },
  {
   "cell_type": "code",
   "execution_count": 7,
   "metadata": {},
   "outputs": [
    {
     "data": {
      "text/plain": [
       "<tf.Tensor: id=21, shape=(5,), dtype=float32, numpy=\n",
       "array([0.63024914, 0.8778267 , 0.00629103, 0.23664343, 0.6832211 ],\n",
       "      dtype=float32)>"
      ]
     },
     "execution_count": 7,
     "metadata": {},
     "output_type": "execute_result"
    }
   ],
   "source": [
    "scores"
   ]
  },
  {
   "cell_type": "code",
   "execution_count": 10,
   "metadata": {},
   "outputs": [
    {
     "data": {
      "text/plain": [
       "<tf.Tensor: id=36, shape=(3,), dtype=int32, numpy=array([1, 4, 2])>"
      ]
     },
     "execution_count": 10,
     "metadata": {},
     "output_type": "execute_result"
    }
   ],
   "source": [
    "# returns the indices of the boxes meet the threshold\n",
    "indices = tf.image.non_max_suppression(boxes, scores, max_output_size=10, iou_threshold=0.2)\n",
    "indices"
   ]
  },
  {
   "cell_type": "code",
   "execution_count": 11,
   "metadata": {},
   "outputs": [
    {
     "data": {
      "text/plain": [
       "<tf.Tensor: id=39, shape=(3, 4), dtype=float32, numpy=\n",
       "array([[0.98822236, 7.902124  , 0.8090663 , 1.2118781 ],\n",
       "       [1.2248063 , 8.7956295 , 5.155654  , 3.829707  ],\n",
       "       [5.9656024 , 9.474609  , 9.505417  , 6.9947553 ]], dtype=float32)>"
      ]
     },
     "execution_count": 11,
     "metadata": {},
     "output_type": "execute_result"
    }
   ],
   "source": [
    "tf.gather(boxes, indices=indices)"
   ]
  },
  {
   "cell_type": "code",
   "execution_count": null,
   "metadata": {},
   "outputs": [],
   "source": []
  }
 ],
 "metadata": {
  "kernelspec": {
   "display_name": "Python 3",
   "language": "python",
   "name": "python3"
  },
  "language_info": {
   "codemirror_mode": {
    "name": "ipython",
    "version": 3
   },
   "file_extension": ".py",
   "mimetype": "text/x-python",
   "name": "python",
   "nbconvert_exporter": "python",
   "pygments_lexer": "ipython3",
   "version": "3.7.3"
  }
 },
 "nbformat": 4,
 "nbformat_minor": 2
}
